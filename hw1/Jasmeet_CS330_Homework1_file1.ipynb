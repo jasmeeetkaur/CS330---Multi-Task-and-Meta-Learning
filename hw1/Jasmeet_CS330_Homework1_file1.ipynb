{
  "nbformat": 4,
  "nbformat_minor": 0,
  "metadata": {
    "colab": {
      "name": "Jasmeet-CS330_Homework1_file1.ipynb",
      "provenance": [],
      "collapsed_sections": []
    },
    "kernelspec": {
      "name": "python3",
      "display_name": "Python 3"
    },
    "accelerator": "GPU"
  },
  "cells": [
    {
      "cell_type": "markdown",
      "metadata": {
        "id": "AM4PYQ8I2YGP"
      },
      "source": [
        "**CS 330 Autumn 2019/2020 Homework 1**\n",
        "**Data Processing and Memory Augmented Neural Networks**"
      ]
    },
    {
      "cell_type": "markdown",
      "metadata": {
        "id": "54GFgYr822iA"
      },
      "source": [
        "\n",
        "Overview¶\n",
        "\n",
        "In this assignment we will be looking at meta-learing for few shot classification.\n",
        "\n",
        "You will\n",
        "\n",
        "    Learn how to process and partition data for meta learning problems, where training is done over a distribution of training tasks $p(\\mathcal T)$.\n",
        "\n",
        "    Implement and train memory augmented neural networks, which meta-learn through a recurrent network.\n",
        "\n",
        "    Analyze the learning performance for different size problems.\n",
        "\n",
        "    Experiment with model parameters and explore how they improve performance.\n",
        "\n",
        "We will be working with the Omniglot dataset [1] , a dataset for one-shot learning which contains:\n",
        "\n",
        "    1623 different characters (classes)\n",
        "\n",
        "    from 50 different languages.\n",
        "\n",
        "    For each character there are 20 $28 \\times 28$ images.\n",
        "\n",
        "We are interested in training models for K-shot, N-way classification, that is, we want to train a classifier to distinguish between N previously unseen characters, given only K labeled examples of each character.\n",
        "Submission:\n",
        "\n",
        "To submit your homework, submit one pdf report and one zip file to Grade-Scope, where the report will contain answers to the deliverables listed below and the zip filecontains your code (hw1.py, load_data.py) with the filled in solutions.\n",
        "Code Overview: The code consists of two files\n",
        "\n",
        "    load_data.py: Contains code to load batches of images and labels\n",
        "\n",
        "    hw1.py: Contains the network architecture/loss functions and training script.\n",
        "\n",
        "There is also the omniglot resized folder which contains the data. You should not modify this folder.\n",
        "Dependencies:\n",
        "\n",
        "We expect code in Python 3.5+ with Pillow, scipy, numpy, tensorflow installed.\n",
        "Problem 1: Data Processing for Few-Shot Classification\n",
        "\n",
        "Before training any models, you must write code to sample batches for training. Fill in the sample batch function in the DataGenerator class in the load_data.py file.\n",
        "\n",
        "The class already has variables defined for\n",
        "\n",
        "    batch size batch_size ( $B$ ),\n",
        "\n",
        "    number of classes num_classes ( $N$ ),\n",
        "\n",
        "    and number of samples per class num_samples_per_class ( $K$ ).\n",
        "\n",
        "Your code should:\n",
        "\n",
        "    Sample $N$ different classes (characters) from either the specified train, test, or validation folders.\n",
        "\n",
        "    Load $K$ images per class and collect the associated labels.\n",
        "\n",
        "    Format the data and return two numpy matrices:\n",
        "\n",
        "        one of flattened images with shape $[ B, K, N, 784 ]$,\n",
        "\n",
        "        and one of one-hot labels $[ B, K, N, N ]$\n",
        "\n"
      ]
    },
    {
      "cell_type": "code",
      "metadata": {
        "id": "-Q4lGYC_E6QQ",
        "colab": {
          "base_uri": "https://localhost:8080/"
        },
        "outputId": "de18b896-094a-43c7-a32e-918fc2d732b5"
      },
      "source": [
        "import os\n",
        "from google_drive_downloader import GoogleDriveDownloader as gdd\n",
        "\n",
        "# Need to download the Omniglot dataset -- DON'T MODIFY THIS CELL\n",
        "if not os.path.isdir('./omniglot_resized'):\n",
        "    gdd.download_file_from_google_drive(file_id='1iaSFXIYC3AB8q9K_M-oVMa4pmB7yKMtI',\n",
        "                                        dest_path='./omniglot_resized.zip',\n",
        "                                        unzip=True)\n",
        "    \n",
        "assert os.path.isdir('./omniglot_resized')"
      ],
      "execution_count": 1,
      "outputs": [
        {
          "output_type": "stream",
          "text": [
            "Downloading 1iaSFXIYC3AB8q9K_M-oVMa4pmB7yKMtI into ./omniglot_resized.zip... Done.\n",
            "Unzipping...Done.\n"
          ],
          "name": "stdout"
        }
      ]
    },
    {
      "cell_type": "code",
      "metadata": {
        "id": "GZrmaqVivApc"
      },
      "source": [
        "import os\n",
        "import imageio\n",
        "import numpy as np\n",
        "import random\n",
        "import matplotlib.pyplot as plt\n",
        "import tensorflow.compat.v1 as tf\n",
        "tf.disable_v2_behavior()\n",
        "import datetime"
      ],
      "execution_count": 41,
      "outputs": []
    },
    {
      "cell_type": "code",
      "metadata": {
        "id": "xxlhp_MtvFsl"
      },
      "source": [
        "decoder = lambda x: image if type(image) is not bytes else image.decode('UTF-8')"
      ],
      "execution_count": 3,
      "outputs": []
    },
    {
      "cell_type": "code",
      "metadata": {
        "id": "0vnZ76_JvIV6"
      },
      "source": [
        "def get_images(paths, labels, nb_samples=None, shuffle=True):\n",
        "    \"\"\"\n",
        "    Takes a set of character folders and labels and returns paths to image files\n",
        "    paired with labels.\n",
        "    Args:\n",
        "        paths:  A list of character folders\n",
        "        labels: List or numpy array of same length as paths\n",
        "        nb_samples: Number of images to retrieve per character\n",
        "    Returns:\n",
        "        List of (label, image_path) tuples\n",
        "    \"\"\"\n",
        "    if nb_samples is not None:\n",
        "        sampler = lambda x: random.sample(x, nb_samples)\n",
        "    else:\n",
        "        sampler = lambda x: x\n",
        "        \n",
        "    images_labels = [(i, os.path.join(path, image.decode('UTF-8')))\n",
        "                     for i, path in zip(labels, paths)\n",
        "                     for image in sampler(os.listdir(path))]\n",
        "    if shuffle:\n",
        "        random.shuffle(images_labels)\n",
        "    return images_labels\n",
        "\n",
        "\n",
        "def image_file_to_array(filename, dim_input):\n",
        "    \"\"\"\n",
        "    Takes an image path and returns numpy array\n",
        "    Args:\n",
        "        filename: Image filename\n",
        "        dim_input: Flattened shape of image\n",
        "    Returns:\n",
        "        1 channel image\n",
        "    \"\"\"\n",
        "    image = imageio.imread(filename)\n",
        "    image = image.reshape([dim_input])\n",
        "    image = image.astype(np.float32) / 255.0\n",
        "    image = 1.0 - image\n",
        "    return image"
      ],
      "execution_count": 4,
      "outputs": []
    },
    {
      "cell_type": "code",
      "metadata": {
        "id": "SR9LcmCCvP6m"
      },
      "source": [
        "class DataGenerator(object):\n",
        "    \"\"\"\n",
        "    Data Generator capable of generating batches of Omniglot data.\n",
        "    A \"class\" is considered a class of omniglot digits.\n",
        "    \"\"\"\n",
        "\n",
        "    def __init__(self, num_classes, num_samples_per_class, config={}):\n",
        "        \"\"\"\n",
        "        Args:\n",
        "            num_classes: Number of classes for classification (K-way)\n",
        "            num_samples_per_class: num samples to generate per class in one batch\n",
        "            batch_size: size of meta batch size (e.g. number of functions)\n",
        "        \"\"\"\n",
        "        self.num_samples_per_class = num_samples_per_class\n",
        "        self.num_classes = num_classes\n",
        "\n",
        "        data_folder = config.get('data_folder', './omniglot_resized')\n",
        "        self.img_size = config.get('img_size', (28, 28))\n",
        "\n",
        "        self.dim_input = np.prod(self.img_size)\n",
        "        self.dim_output = self.num_classes\n",
        "\n",
        "        character_folders = [os.path.join(data_folder, family, character)\n",
        "                             for family in os.listdir(data_folder)\n",
        "                             if os.path.isdir(os.path.join(data_folder, family))\n",
        "                             for character in os.listdir(os.path.join(data_folder, family))\n",
        "                             if os.path.isdir(os.path.join(data_folder, family, character))]\n",
        "\n",
        "        np.random.seed(1)\n",
        "        np.random.shuffle(character_folders)\n",
        "        num_val = 100\n",
        "        num_train = 1100\n",
        "        self.metatrain_character_folders = character_folders[: num_train]\n",
        "        self.metaval_character_folders = character_folders[\n",
        "                                         num_train:num_train + num_val]\n",
        "        self.metatest_character_folders = character_folders[\n",
        "                                          num_train + num_val:]\n",
        "\n",
        "    def sample_batch(self, batch_type, batch_size, shuffle=True):\n",
        "        \"\"\"\n",
        "        Samples a batch for training, validation, or testing\n",
        "        Args:\n",
        "            batch_type: train/val/test\n",
        "        Returns:\n",
        "            A a tuple of (1) Image batch and (2) Label batch where\n",
        "            image batch has shape [B, K, N, 784] and label batch has shape [B, K, N, N]\n",
        "            where B is batch size, K is number of samples per class, N is number of classes\n",
        "        \"\"\"\n",
        "        if batch_type == \"train\":\n",
        "            folders = self.metatrain_character_folders\n",
        "        elif batch_type == \"val\":\n",
        "            folders = self.metaval_character_folders\n",
        "        else:\n",
        "            folders = self.metatest_character_folders\n",
        "\n",
        "        B = batch_size\n",
        "        N = self.num_classes\n",
        "        K = self.num_samples_per_class\n",
        "        I = self.dim_input\n",
        "        all_image_batches = []\n",
        "        all_label_batches = []\n",
        "        \n",
        "        # 0. Repeat for B batches\n",
        "        for batch in range(B):\n",
        "            # 1. Sample N different classes\n",
        "            n_classes = np.random.choice(folders, N, replace=False)\n",
        "            tuples = get_images(n_classes, range(N), nb_samples=K, shuffle=False) # <! False? \n",
        "            \n",
        "            images = [image_file_to_array(im, I) for lb,im in tuples]\n",
        "            images = np.stack(images)\n",
        "            images = np.reshape(images, (N, K, I))\n",
        "            \n",
        "            \n",
        "            \n",
        "            labels = np.asarray([lb for lb, im in tuples])\n",
        "            labels = np.reshape(labels, (N, K))\n",
        "            labels = np.eye(N)[labels]\n",
        "            \n",
        "            \n",
        "            \n",
        "            labels = np.swapaxes(labels, 0, 1)\n",
        "            images = np.swapaxes(images, 0, 1)\n",
        "            \n",
        "            \n",
        "            all_image_batches.append(images)\n",
        "            all_label_batches.append(labels)\n",
        "        all_image_batches = np.stack(all_image_batches)\n",
        "        all_label_batches = np.stack(all_label_batches)\n",
        "        return all_image_batches, all_label_batches"
      ],
      "execution_count": 5,
      "outputs": []
    },
    {
      "cell_type": "code",
      "metadata": {
        "id": "0ePyj0LPvopI"
      },
      "source": [
        "num_classes=5\n",
        "num_samples_per_class=3\n",
        "\n",
        "data = DataGenerator(num_classes, num_samples_per_class)"
      ],
      "execution_count": 6,
      "outputs": []
    },
    {
      "cell_type": "code",
      "metadata": {
        "colab": {
          "base_uri": "https://localhost:8080/"
        },
        "id": "AeMvERbpvvQz",
        "outputId": "fc81fea5-a260-4b1c-9845-f73cf22c3614"
      },
      "source": [
        "images, labels = data.sample_batch('train', batch_size=2, shuffle=False)\n",
        "print(\"Batch of images of shape:\", images.shape)\n",
        "print(\"Batch of labels of shape:\", labels.shape)"
      ],
      "execution_count": 7,
      "outputs": [
        {
          "output_type": "stream",
          "text": [
            "Batch of images of shape: (2, 3, 5, 784)\n",
            "Batch of labels of shape: (2, 3, 5, 5)\n"
          ],
          "name": "stdout"
        }
      ]
    },
    {
      "cell_type": "code",
      "metadata": {
        "colab": {
          "base_uri": "https://localhost:8080/"
        },
        "id": "pYUcP4niv1C6",
        "outputId": "27d0be75-f04c-4304-e48e-661a254b4510"
      },
      "source": [
        "for i in range(num_classes):\n",
        "    print(labels[0,0,i])\n"
      ],
      "execution_count": 8,
      "outputs": [
        {
          "output_type": "stream",
          "text": [
            "[1. 0. 0. 0. 0.]\n",
            "[0. 1. 0. 0. 0.]\n",
            "[0. 0. 1. 0. 0.]\n",
            "[0. 0. 0. 1. 0.]\n",
            "[0. 0. 0. 0. 1.]\n"
          ],
          "name": "stdout"
        }
      ]
    },
    {
      "cell_type": "code",
      "metadata": {
        "colab": {
          "base_uri": "https://localhost:8080/",
          "height": 935
        },
        "id": "am-m9n2Kv45N",
        "outputId": "28afd80b-61ba-4f58-f151-3862db72039d"
      },
      "source": [
        "print(\"First meta-batch:\")\n",
        "\n",
        "plt.figure(figsize=(16, 16))\n",
        "count = 0\n",
        "for cl in range(num_classes):\n",
        "    for sa in range(num_samples_per_class):\n",
        "        plt.subplot(num_classes, num_samples_per_class, count + 1)\n",
        "        plt.title(\"Class {} - Example {}\".format(cl, sa))\n",
        "        image = images[0, sa, cl].reshape((28,28))\n",
        "        plt.imshow(image)\n",
        "        plt.axis('off');\n",
        "        count += 1\n",
        "plt.show()"
      ],
      "execution_count": 10,
      "outputs": [
        {
          "output_type": "stream",
          "text": [
            "First meta-batch:\n"
          ],
          "name": "stdout"
        },
        {
          "output_type": "display_data",
          "data": {
            "image/png": "[encoded data removed]",
            "text/plain": [
              "<Figure size 1152x1152 with 15 Axes>"
            ]
          },
          "metadata": {
            "tags": [],
            "needs_background": "light"
          }
        }
      ]
    },
    {
      "cell_type": "code",
      "metadata": {
        "colab": {
          "base_uri": "https://localhost:8080/",
          "height": 935
        },
        "id": "S4sA0Q4OwH2o",
        "outputId": "35077d33-07af-4271-dfb5-5b67cb8409b9"
      },
      "source": [
        "print(\"Second meta-batch:\")\n",
        "\n",
        "plt.figure(figsize=(16, 16))\n",
        "count = 0\n",
        "for cl in range(num_classes):\n",
        "    for sa in range(num_samples_per_class):\n",
        "        plt.subplot(num_classes, num_samples_per_class, count + 1)\n",
        "        plt.title(\"Class {} - Example {}\".format(cl, sa))\n",
        "        image = images[1, sa, cl].reshape((28,28))\n",
        "        plt.imshow(image)\n",
        "        plt.axis('off');\n",
        "        count += 1\n",
        "plt.show()"
      ],
      "execution_count": 11,
      "outputs": [
        {
          "output_type": "stream",
          "text": [
            "Second meta-batch:\n"
          ],
          "name": "stdout"
        },
        {
          "output_type": "display_data",
          "data": {
            "image/png": "[encoded data removed]",
            "text/plain": [
              "<Figure size 1152x1152 with 15 Axes>"
            ]
          },
          "metadata": {
            "tags": [],
            "needs_background": "light"
          }
        }
      ]
    },
    {
      "cell_type": "markdown",
      "metadata": {
        "id": "Agx9muurwRG7"
      },
      "source": [
        "About the Data Generator"
      ]
    },
    {
      "cell_type": "code",
      "metadata": {
        "colab": {
          "base_uri": "https://localhost:8080/"
        },
        "id": "WhviNXYTwNFr",
        "outputId": "297b8ac1-9ba8-443a-a717-0cc1d529b41a"
      },
      "source": [
        "print(\"# of samples per class:\", data.num_samples_per_class)\n",
        "print(\"# of classes:\",  data.num_classes)\n",
        "print(\"Image size:\",   data.img_size)\n",
        "print(\"Input dimension:\",  data.dim_input)\n",
        "print(\"Output dimension:\", data.dim_output)\n"
      ],
      "execution_count": 12,
      "outputs": [
        {
          "output_type": "stream",
          "text": [
            "# of samples per class: 3\n",
            "# of classes: 5\n",
            "Image size: (28, 28)\n",
            "Input dimension: 784\n",
            "Output dimension: 5\n"
          ],
          "name": "stdout"
        }
      ]
    },
    {
      "cell_type": "code",
      "metadata": {
        "colab": {
          "base_uri": "https://localhost:8080/"
        },
        "id": "qEemPl8kwp7s",
        "outputId": "0d882511-6f44-4972-e824-46d245d1ef4b"
      },
      "source": [
        "print(\"# of meta train folders:\", len(data.metatrain_character_folders))\n",
        "print(\"# of meta val folders:  \", len(data.metaval_character_folders))\n",
        "print(\"# of meta test folders: \", len(data.metatest_character_folders))"
      ],
      "execution_count": 13,
      "outputs": [
        {
          "output_type": "stream",
          "text": [
            "# of meta train folders: 1100\n",
            "# of meta val folders:   100\n",
            "# of meta test folders:  423\n"
          ],
          "name": "stdout"
        }
      ]
    },
    {
      "cell_type": "code",
      "metadata": {
        "colab": {
          "base_uri": "https://localhost:8080/"
        },
        "id": "Sc0zL5XJwx52",
        "outputId": "626ad110-02e4-4b26-fde1-a8ef3a9f688c"
      },
      "source": [
        "classes = np.asarray(data.metatest_character_folders[0:3])\n",
        "labels  = [0, 1 ,2]\n",
        "get_images(classes, labels, 1)\n"
      ],
      "execution_count": 14,
      "outputs": [
        {
          "output_type": "execute_result",
          "data": {
            "text/plain": [
              "[(0, './omniglot_resized/Manipuri/character07/1325_11.png'),\n",
              " (1, './omniglot_resized/Glagolitic/character30/1144_02.png'),\n",
              " (2, './omniglot_resized/Asomtavruli_(Georgian)/character21/0088_15.png')]"
            ]
          },
          "metadata": {
            "tags": []
          },
          "execution_count": 14
        }
      ]
    },
    {
      "cell_type": "code",
      "metadata": {
        "colab": {
          "base_uri": "https://localhost:8080/"
        },
        "id": "BNBhnsfZwzu1",
        "outputId": "91f55add-cb4d-41e1-fff2-ce12154bc6bd"
      },
      "source": [
        "[os.path.basename(os.path.split(family)[0]) for family in data.metatest_character_folders[0:3]]"
      ],
      "execution_count": 15,
      "outputs": [
        {
          "output_type": "execute_result",
          "data": {
            "text/plain": [
              "['Manipuri', 'Glagolitic', 'Asomtavruli_(Georgian)']"
            ]
          },
          "metadata": {
            "tags": []
          },
          "execution_count": 15
        }
      ]
    },
    {
      "cell_type": "code",
      "metadata": {
        "colab": {
          "base_uri": "https://localhost:8080/",
          "height": 265
        },
        "id": "JaUWealZw5LW",
        "outputId": "9230d2de-e532-4f1b-9905-743ceac8fad2"
      },
      "source": [
        "plt.imshow(image_file_to_array('./omniglot_resized/N_Ko/character12/0815_17.png', 784).reshape((28,28)))\n",
        "plt.show()"
      ],
      "execution_count": 16,
      "outputs": [
        {
          "output_type": "display_data",
          "data": {
            "image/png": "[encoded data removed]",
            "text/plain": [
              "<Figure size 432x288 with 1 Axes>"
            ]
          },
          "metadata": {
            "tags": [],
            "needs_background": "light"
          }
        }
      ]
    },
    {
      "cell_type": "markdown",
      "metadata": {
        "id": "8yQEeeJT3oVk"
      },
      "source": [
        "\n",
        "Problem 2: Memory Augmented Neural Networks [2] [3]\n",
        "\n",
        "We will be attempting few shot classification using memory augmented neural networks.\n",
        "\n",
        "The idea of memory augmented networks is:\n",
        "\n",
        "    $$\\Large \\text{to use a classifier with } \\underline{\\text{recurrent memory}}, \\\\ \\ \\\\ \\Large \\text{such that }\\underline{\\text{information from the K examples of unseen classes}}\\\\ \\ \\\\ \\Large \\underline{\\text{informs classification through the hidden state of the network}}$$ \n",
        "\n",
        "The data processing will be done as in SNAIL [3].\n",
        "\n",
        "Specifically, during training, you sample batches of $N$ classes, with $K + 1$ samples per batch.\n",
        "\n",
        "Each set of labels and images are concatenated together, and then all K of these concatenated pairs are sequentially passed through the network.\n",
        "\n",
        "Then the final example of each class is fed through the network (concatenated with 0 instead of the true label).\n",
        "\n",
        "figure-1.png\n",
        "\n",
        "The loss is computed between these final outputs and the ground truth label, which is then backpropagated through the network.\n",
        "\n",
        "    Note: The loss is only computed on the last set of $N$ classes.\n",
        "\n",
        "The idea is that the network will learn how to encode the first $K$ examples of each class into memory such that it can be used to enable accurate classification on the $K + 1th$ example. See Figure 1.\n",
        "\n",
        "In the hw1.py file:\n",
        "\n",
        "    Fill in the call function of the MANN class to take in image tensor of shape $[B, K + 1, N, 784]$ and a label tensor of shape $[B, K + 1, N, N ]$ and output labels of shape $[B, K + 1, N, N ]$.\n",
        "\n",
        "    The layers to use have already been defined for you in the init function.\n",
        "\n",
        "    Hint: Remember to pass zeros, not the ground truth labels for the final $N$ examples.\n",
        "\n",
        "    Fill in the function called loss_function which takes as input the $[B, K + 1, N, N ]$ labels and $[B, K + 1, N, N ]$ and computes the cross entropy loss.\n",
        "\n",
        "Note: Both of the above functions will need to backpropogated through, so they need to be written in differentiable tensorflow."
      ]
    },
    {
      "cell_type": "code",
      "metadata": {
        "colab": {
          "base_uri": "https://localhost:8080/",
          "height": 35
        },
        "id": "0G8fJIZxw8bs",
        "outputId": "ebe26cbb-aa94-4636-a4b9-d456d8178dc4"
      },
      "source": [
        "tf.__version__"
      ],
      "execution_count": 24,
      "outputs": [
        {
          "output_type": "execute_result",
          "data": {
            "application/vnd.google.colaboratory.intrinsic+json": {
              "type": "string"
            },
            "text/plain": [
              "'2.5.0'"
            ]
          },
          "metadata": {
            "tags": []
          },
          "execution_count": 24
        }
      ]
    },
    {
      "cell_type": "code",
      "metadata": {
        "id": "fxZ-j7fhxQeu"
      },
      "source": [
        "def loss_function(preds, labels):\n",
        "    \"\"\"l\n",
        "    Computes MANN loss\n",
        "    Args:\n",
        "        preds: [B, K+1, N, N] network output\n",
        "        labels: [B, K+1, N, N] labels\n",
        "    Returns:\n",
        "        scalar loss\n",
        "    \"\"\"\n",
        "    loss = tf.keras.losses.categorical_crossentropy(y_true=labels[:,-1:,:,:],\n",
        "                                                    y_pred=preds[:, -1:,:,:],\n",
        "                                                    from_logits=True)\n",
        "    loss = tf.reduce_sum(loss)\n",
        "    return loss\n",
        "\n",
        "class MANN(tf.keras.Model):\n",
        "\n",
        "    def __init__(self, num_classes, samples_per_class):\n",
        "        super(MANN, self).__init__()\n",
        "        self.num_classes = num_classes\n",
        "        self.samples_per_class = samples_per_class\n",
        "        self.layer1 = tf.keras.layers.LSTM(128, return_sequences=True)\n",
        "        self.layer2 = tf.keras.layers.LSTM(num_classes, return_sequences=True)\n",
        "\n",
        "    def call(self, input_images, input_labels):\n",
        "        \"\"\"\n",
        "        MANN\n",
        "        Args:\n",
        "            input_images: [B, K+1, N, 784] flattened images\n",
        "            labels: [B, K+1, N, N] ground truth labels\n",
        "        Returns:\n",
        "            [B, K+1, N, N] predictions\n",
        "        \"\"\"\n",
        "        #############################\n",
        "        #### YOUR CODE GOES HERE ####\n",
        "        # [:,:,:,784],[:,:,:,5] => [:,:,:,789]\n",
        "        _, K, N, I = input_images.shape\n",
        "        # Zero last N example, corresponding to the K+1 sample\n",
        "        # Note the '-1'+':,' so num of dimensions keeps equal\n",
        "        in_zero = input_labels - input_labels[:, -1:, :, :]\n",
        "        input_concat = tf.keras.layers.Concatenate(axis=3)([input_images, in_zero])\n",
        "        input_concat = tf.reshape(input_concat, [-1, K*N, N + 28*28])\n",
        "        out = self.layer2(self.layer1(input_concat))\n",
        "        out = tf.reshape(out, [-1, K, N, N])\n",
        "        #############################\n",
        "        return out"
      ],
      "execution_count": 51,
      "outputs": []
    },
    {
      "cell_type": "code",
      "metadata": {
        "id": "aqqaLDPOx_Xe"
      },
      "source": [
        "def run_experiment(num_classes=2, num_samples=1, meta_batch_size=1, epochs=5e5, verbose=True):\n",
        "    #Placeholders for images and labels\n",
        "    ims = tf.placeholder(tf.float32,\n",
        "                shape=(None,\n",
        "                       num_samples + 1,\n",
        "                       num_classes,\n",
        "                       784))\n",
        "    labels = tf.placeholder(tf.float32,\n",
        "                shape=(None,\n",
        "                       num_samples + 1,\n",
        "                       num_classes,\n",
        "                       num_classes))\n",
        "\n",
        "    data_generator = DataGenerator(\n",
        "                        num_classes,\n",
        "                        num_samples + 1)\n",
        "\n",
        "    o = MANN(num_classes, num_samples + 1)\n",
        "    out = o(ims, labels)\n",
        "\n",
        "    loss = loss_function(out, labels)\n",
        "\n",
        "    optim = tf.train.AdamOptimizer(0.001)\n",
        "    #optim = tf.compat.v1.train.AdamOptimizer(0.001)\n",
        "    optimizer_step = optim.minimize(loss)\n",
        "    print(\"... Starts training ...\")\n",
        "    last_time = datetime.datetime.now()\n",
        "    print(\"Time:\", last_time.time())\n",
        "    history = []\n",
        "    with tf.Session() as sess:\n",
        "        sess.run(tf.local_variables_initializer())\n",
        "        sess.run(tf.global_variables_initializer())\n",
        "        \n",
        "        for step in range(int(epochs)):\n",
        "            i, l = data_generator.sample_batch(batch_type='train', batch_size=meta_batch_size)\n",
        "            #print(\"i.shape:\",i.shape)\n",
        "            feed = {ims:    i.astype(np.float32),\n",
        "                    labels: l.astype(np.float32)}\n",
        "            #print(\"feed[ims].shape:\", feed[ims].shape)\n",
        "            _, ls = sess.run([optimizer_step, loss], feed)\n",
        "\n",
        "            if step % 100 == 0 or step == int(epochs)-1:\n",
        "                if verbose:\n",
        "                    print(\"***** Iter {} *****\".format(step))\n",
        "                    print(\"Took {:.4f} seconds\".format(((datetime.datetime.now() - last_time).microseconds)*1e-5))\n",
        "                last_time = datetime.datetime.now()\n",
        "                i, l = data_generator.sample_batch(batch_type='test', batch_size=1000)\n",
        "                feed = {ims:    i.astype(np.float32),\n",
        "                        labels: l.astype(np.float32)}\n",
        "                pred, tls = sess.run([out, loss], feed)\n",
        "                if verbose:\n",
        "                    print(\"Train Loss:\", ls)\n",
        "                    print(\"Test  Loss:\", tls)\n",
        "                pred = pred.reshape(\n",
        "                        -1, num_samples + 1,\n",
        "                        num_classes, num_classes)\n",
        "                pred = pred[:, -1, :, :].argmax(2)\n",
        "                l = l[:, -1, :, :].argmax(2)\n",
        "                \n",
        "                accuracy = (1.0 * (pred == l)).mean()\n",
        "                history.append([step, ls, tls, accuracy])\n",
        "                if verbose:\n",
        "                    print(\"Test Accuracy\", accuracy)\n",
        "                    \n",
        "                \n",
        "    print(\"Time:\", last_time.time())\n",
        "    print(\"... Training ended ...\")\n",
        "    return np.asarray(history, dtype=np.float32)"
      ],
      "execution_count": 52,
      "outputs": []
    },
    {
      "cell_type": "code",
      "metadata": {
        "colab": {
          "base_uri": "https://localhost:8080/"
        },
        "id": "lHDhYxJ7yErv",
        "outputId": "d1ec364b-87cf-4962-e43e-85072a1c28d3"
      },
      "source": [
        "# Number of classes used in classification (e.g. 5-way classification).\n",
        "num_classes = 5\n",
        "\n",
        "# Number of examples used for inner gradient update (K for K-shot learning)\n",
        "num_samples = 1\n",
        "\n",
        "# Number of N-way classification tasks per batch\n",
        "meta_batch_size = 4\n",
        "\n",
        "hist = run_experiment(epochs=1e3)"
      ],
      "execution_count": 53,
      "outputs": [
        {
          "output_type": "stream",
          "text": [
            "... Starts training ...\n",
            "Time: 12:13:06.011657\n",
            "***** Iter 0 *****\n",
            "Took 4.4748 seconds\n",
            "Train Loss: 1.3671381\n",
            "Test  Loss: 1378.3389\n",
            "Test Accuracy 0.508\n",
            "***** Iter 100 *****\n",
            "Took 9.6675 seconds\n",
            "Train Loss: 0.64946043\n",
            "Test  Loss: 717.9373\n",
            "Test Accuracy 0.945\n",
            "***** Iter 200 *****\n",
            "Took 8.3708 seconds\n",
            "Train Loss: 0.49040774\n",
            "Test  Loss: 533.9633\n",
            "Test Accuracy 0.9895\n",
            "***** Iter 300 *****\n",
            "Took 7.9655 seconds\n",
            "Train Loss: 0.48369592\n",
            "Test  Loss: 517.7283\n",
            "Test Accuracy 0.992\n",
            "***** Iter 400 *****\n",
            "Took 8.4110 seconds\n",
            "Train Loss: 0.47089875\n",
            "Test  Loss: 496.6395\n",
            "Test Accuracy 0.991\n",
            "***** Iter 500 *****\n",
            "Took 8.3676 seconds\n",
            "Train Loss: 0.47597927\n",
            "Test  Loss: 519.2595\n",
            "Test Accuracy 0.9845\n",
            "***** Iter 600 *****\n",
            "Took 8.3121 seconds\n",
            "Train Loss: 0.46840075\n",
            "Test  Loss: 482.49487\n",
            "Test Accuracy 0.9945\n",
            "***** Iter 700 *****\n",
            "Took 8.2352 seconds\n",
            "Train Loss: 0.4688631\n",
            "Test  Loss: 491.56467\n",
            "Test Accuracy 0.9905\n",
            "***** Iter 800 *****\n",
            "Took 7.7584 seconds\n",
            "Train Loss: 0.46650195\n",
            "Test  Loss: 479.47543\n",
            "Test Accuracy 0.9955\n",
            "***** Iter 900 *****\n",
            "Took 6.8726 seconds\n",
            "Train Loss: 0.46893603\n",
            "Test  Loss: 477.9309\n",
            "Test Accuracy 0.9965\n",
            "***** Iter 999 *****\n",
            "Took 6.3346 seconds\n",
            "Train Loss: 0.46664226\n",
            "Test  Loss: 479.4644\n",
            "Test Accuracy 0.9955\n",
            "Time: 12:13:37.489242\n",
            "... Training ended ...\n"
          ],
          "name": "stdout"
        }
      ]
    },
    {
      "cell_type": "code",
      "metadata": {
        "colab": {
          "base_uri": "https://localhost:8080/",
          "height": 1000
        },
        "id": "Oer6HVNg1VkS",
        "outputId": "f3edb874-95c1-46ee-b1d0-3c3be005f601"
      },
      "source": [
        "from plotly.subplots import make_subplots\n",
        "import plotly.graph_objects as go\n",
        "\n",
        "steps = hist[:,0]\n",
        "train_losses = hist[:,1]\n",
        "test_losses  = hist[:,2]\n",
        "test_accurs  = hist[:,3]\n",
        "\n",
        "fig = make_subplots(rows=2, cols=2,\n",
        "                    subplot_titles=(\"Training Loss\", \"Test Loss\", \"Test Accuracy\", \"Losses\"))\n",
        "fig.add_trace(go.Scatter(x=steps, y=train_losses, name='Train Loss', line=dict(color=\"blue\")),\n",
        "              row=1, col=1\n",
        "              )\n",
        "fig.add_trace(go.Scatter(x=steps, y=test_losses, name='Test Loss', line=dict(color=\"red\")),\n",
        "              row=1, col=2\n",
        "              )\n",
        "fig.add_trace(go.Scatter(x=steps, y=test_accurs, name='Test Acc'),\n",
        "              row=2, col=1\n",
        "              )\n",
        "fig.add_trace(go.Scatter(x=steps, y=train_losses, name='Train Loss', line=dict(color=\"blue\")),\n",
        "              row=2, col=2\n",
        "              )\n",
        "fig.add_trace(go.Scatter(x=steps, y=test_losses, name='Test Loss', line=dict(color=\"red\")),\n",
        "              row=2, col=2\n",
        "              )\n",
        "fig.update_layout(height=1000, title_text=\"Performance over time\")\n",
        "fig.show()\n"
      ],
      "execution_count": 54,
      "outputs": [
        {
          "output_type": "display_data",
          "data": {
            "text/html": [
              "<html>\n",
              "<head><meta charset=\"utf-8\" /></head>\n",
              "<body>\n",
              "    <div>\n",
              "            <script src=\"https://cdnjs.cloudflare.com/ajax/libs/mathjax/2.7.5/MathJax.js?config=TeX-AMS-MML_SVG\"></script><script type=\"text/javascript\">if (window.MathJax) {MathJax.Hub.Config({SVG: {font: \"STIX-Web\"}});}</script>\n",
              "                <script type=\"text/javascript\">window.PlotlyConfig = {MathJaxConfig: 'local'};</script>\n",
              "        <script src=\"https://cdn.plot.ly/plotly-latest.min.js\"></script>    \n",
              "            <div id=\"1bcce2db-ef48-4d54-8189-e9a1ab333ece\" class=\"plotly-graph-div\" style=\"height:1000px; width:100%;\"></div>\n",
              "            <script type=\"text/javascript\">\n",
              "                \n",
              "                    window.PLOTLYENV=window.PLOTLYENV || {};\n",
              "                    \n",
              "                if (document.getElementById(\"1bcce2db-ef48-4d54-8189-e9a1ab333ece\")) {\n",
              "                    Plotly.newPlot(\n",
              "                        '1bcce2db-ef48-4d54-8189-e9a1ab333ece',\n",
              "                        [{\"line\": {\"color\": \"blue\"}, \"name\": \"Train Loss\", \"type\": \"scatter\", \"x\": [0.0, 100.0, 200.0, 300.0, 400.0, 500.0, 600.0, 700.0, 800.0, 900.0, 999.0], \"xaxis\": \"x\", \"y\": [1.367138147354126, 0.6494604349136353, 0.4904077351093292, 0.483695924282074, 0.47089874744415283, 0.4759792685508728, 0.4684007465839386, 0.4688630998134613, 0.46650195121765137, 0.468936026096344, 0.46664226055145264], \"yaxis\": \"y\"}, {\"line\": {\"color\": \"red\"}, \"name\": \"Test Loss\", \"type\": \"scatter\", \"x\": [0.0, 100.0, 200.0, 300.0, 400.0, 500.0, 600.0, 700.0, 800.0, 900.0, 999.0], \"xaxis\": \"x2\", \"y\": [1378.3388671875, 717.9373168945312, 533.9633178710938, 517.728271484375, 496.6394958496094, 519.259521484375, 482.494873046875, 491.5646667480469, 479.4754333496094, 477.930908203125, 479.4643859863281], \"yaxis\": \"y2\"}, {\"name\": \"Test Acc\", \"type\": \"scatter\", \"x\": [0.0, 100.0, 200.0, 300.0, 400.0, 500.0, 600.0, 700.0, 800.0, 900.0, 999.0], \"xaxis\": \"x3\", \"y\": [0.5080000162124634, 0.9449999928474426, 0.9894999861717224, 0.9919999837875366, 0.9909999966621399, 0.984499990940094, 0.9944999814033508, 0.9904999732971191, 0.9955000281333923, 0.9965000152587891, 0.9955000281333923], \"yaxis\": \"y3\"}, {\"line\": {\"color\": \"blue\"}, \"name\": \"Train Loss\", \"type\": \"scatter\", \"x\": [0.0, 100.0, 200.0, 300.0, 400.0, 500.0, 600.0, 700.0, 800.0, 900.0, 999.0], \"xaxis\": \"x4\", \"y\": [1.367138147354126, 0.6494604349136353, 0.4904077351093292, 0.483695924282074, 0.47089874744415283, 0.4759792685508728, 0.4684007465839386, 0.4688630998134613, 0.46650195121765137, 0.468936026096344, 0.46664226055145264], \"yaxis\": \"y4\"}, {\"line\": {\"color\": \"red\"}, \"name\": \"Test Loss\", \"type\": \"scatter\", \"x\": [0.0, 100.0, 200.0, 300.0, 400.0, 500.0, 600.0, 700.0, 800.0, 900.0, 999.0], \"xaxis\": \"x4\", \"y\": [1378.3388671875, 717.9373168945312, 533.9633178710938, 517.728271484375, 496.6394958496094, 519.259521484375, 482.494873046875, 491.5646667480469, 479.4754333496094, 477.930908203125, 479.4643859863281], \"yaxis\": \"y4\"}],\n",
              "                        {\"annotations\": [{\"font\": {\"size\": 16}, \"showarrow\": false, \"text\": \"Training Loss\", \"x\": 0.225, \"xanchor\": \"center\", \"xref\": \"paper\", \"y\": 1.0, \"yanchor\": \"bottom\", \"yref\": \"paper\"}, {\"font\": {\"size\": 16}, \"showarrow\": false, \"text\": \"Test Loss\", \"x\": 0.775, \"xanchor\": \"center\", \"xref\": \"paper\", \"y\": 1.0, \"yanchor\": \"bottom\", \"yref\": \"paper\"}, {\"font\": {\"size\": 16}, \"showarrow\": false, \"text\": \"Test Accuracy\", \"x\": 0.225, \"xanchor\": \"center\", \"xref\": \"paper\", \"y\": 0.375, \"yanchor\": \"bottom\", \"yref\": \"paper\"}, {\"font\": {\"size\": 16}, \"showarrow\": false, \"text\": \"Losses\", \"x\": 0.775, \"xanchor\": \"center\", \"xref\": \"paper\", \"y\": 0.375, \"yanchor\": \"bottom\", \"yref\": \"paper\"}], \"height\": 1000, \"template\": {\"data\": {\"bar\": [{\"error_x\": {\"color\": \"#2a3f5f\"}, \"error_y\": {\"color\": \"#2a3f5f\"}, \"marker\": {\"line\": {\"color\": \"#E5ECF6\", \"width\": 0.5}}, \"type\": \"bar\"}], \"barpolar\": [{\"marker\": {\"line\": {\"color\": \"#E5ECF6\", \"width\": 0.5}}, \"type\": \"barpolar\"}], \"carpet\": [{\"aaxis\": {\"endlinecolor\": \"#2a3f5f\", \"gridcolor\": \"white\", \"linecolor\": \"white\", \"minorgridcolor\": \"white\", \"startlinecolor\": \"#2a3f5f\"}, \"baxis\": {\"endlinecolor\": \"#2a3f5f\", \"gridcolor\": \"white\", \"linecolor\": \"white\", \"minorgridcolor\": \"white\", \"startlinecolor\": \"#2a3f5f\"}, \"type\": \"carpet\"}], \"choropleth\": [{\"colorbar\": {\"outlinewidth\": 0, \"ticks\": \"\"}, \"type\": \"choropleth\"}], \"contour\": [{\"colorbar\": {\"outlinewidth\": 0, \"ticks\": \"\"}, \"colorscale\": [[0.0, \"#0d0887\"], [0.1111111111111111, \"#46039f\"], [0.2222222222222222, \"#7201a8\"], [0.3333333333333333, \"#9c179e\"], [0.4444444444444444, \"#bd3786\"], [0.5555555555555556, \"#d8576b\"], [0.6666666666666666, \"#ed7953\"], [0.7777777777777778, \"#fb9f3a\"], [0.8888888888888888, \"#fdca26\"], [1.0, \"#f0f921\"]], \"type\": \"contour\"}], \"contourcarpet\": [{\"colorbar\": {\"outlinewidth\": 0, \"ticks\": \"\"}, \"type\": \"contourcarpet\"}], \"heatmap\": [{\"colorbar\": {\"outlinewidth\": 0, \"ticks\": \"\"}, \"colorscale\": [[0.0, \"#0d0887\"], [0.1111111111111111, \"#46039f\"], [0.2222222222222222, \"#7201a8\"], [0.3333333333333333, \"#9c179e\"], [0.4444444444444444, \"#bd3786\"], [0.5555555555555556, \"#d8576b\"], [0.6666666666666666, \"#ed7953\"], [0.7777777777777778, \"#fb9f3a\"], [0.8888888888888888, \"#fdca26\"], [1.0, \"#f0f921\"]], \"type\": \"heatmap\"}], \"heatmapgl\": [{\"colorbar\": {\"outlinewidth\": 0, \"ticks\": \"\"}, \"colorscale\": [[0.0, \"#0d0887\"], [0.1111111111111111, \"#46039f\"], [0.2222222222222222, \"#7201a8\"], [0.3333333333333333, \"#9c179e\"], [0.4444444444444444, \"#bd3786\"], [0.5555555555555556, \"#d8576b\"], [0.6666666666666666, \"#ed7953\"], [0.7777777777777778, \"#fb9f3a\"], [0.8888888888888888, \"#fdca26\"], [1.0, \"#f0f921\"]], \"type\": \"heatmapgl\"}], \"histogram\": [{\"marker\": {\"colorbar\": {\"outlinewidth\": 0, \"ticks\": \"\"}}, \"type\": \"histogram\"}], \"histogram2d\": [{\"colorbar\": {\"outlinewidth\": 0, \"ticks\": \"\"}, \"colorscale\": [[0.0, \"#0d0887\"], [0.1111111111111111, \"#46039f\"], [0.2222222222222222, \"#7201a8\"], [0.3333333333333333, \"#9c179e\"], [0.4444444444444444, \"#bd3786\"], [0.5555555555555556, \"#d8576b\"], [0.6666666666666666, \"#ed7953\"], [0.7777777777777778, \"#fb9f3a\"], [0.8888888888888888, \"#fdca26\"], [1.0, \"#f0f921\"]], \"type\": \"histogram2d\"}], \"histogram2dcontour\": [{\"colorbar\": {\"outlinewidth\": 0, \"ticks\": \"\"}, \"colorscale\": [[0.0, \"#0d0887\"], [0.1111111111111111, \"#46039f\"], [0.2222222222222222, \"#7201a8\"], [0.3333333333333333, \"#9c179e\"], [0.4444444444444444, \"#bd3786\"], [0.5555555555555556, \"#d8576b\"], [0.6666666666666666, \"#ed7953\"], [0.7777777777777778, \"#fb9f3a\"], [0.8888888888888888, \"#fdca26\"], [1.0, \"#f0f921\"]], \"type\": \"histogram2dcontour\"}], \"mesh3d\": [{\"colorbar\": {\"outlinewidth\": 0, \"ticks\": \"\"}, \"type\": \"mesh3d\"}], \"parcoords\": [{\"line\": {\"colorbar\": {\"outlinewidth\": 0, \"ticks\": \"\"}}, \"type\": \"parcoords\"}], \"pie\": [{\"automargin\": true, \"type\": \"pie\"}], \"scatter\": [{\"marker\": {\"colorbar\": {\"outlinewidth\": 0, \"ticks\": \"\"}}, \"type\": \"scatter\"}], \"scatter3d\": [{\"line\": {\"colorbar\": {\"outlinewidth\": 0, \"ticks\": \"\"}}, \"marker\": {\"colorbar\": {\"outlinewidth\": 0, \"ticks\": \"\"}}, \"type\": \"scatter3d\"}], \"scattercarpet\": [{\"marker\": {\"colorbar\": {\"outlinewidth\": 0, \"ticks\": \"\"}}, \"type\": \"scattercarpet\"}], \"scattergeo\": [{\"marker\": {\"colorbar\": {\"outlinewidth\": 0, \"ticks\": \"\"}}, \"type\": \"scattergeo\"}], \"scattergl\": [{\"marker\": {\"colorbar\": {\"outlinewidth\": 0, \"ticks\": \"\"}}, \"type\": \"scattergl\"}], \"scattermapbox\": [{\"marker\": {\"colorbar\": {\"outlinewidth\": 0, \"ticks\": \"\"}}, \"type\": \"scattermapbox\"}], \"scatterpolar\": [{\"marker\": {\"colorbar\": {\"outlinewidth\": 0, \"ticks\": \"\"}}, \"type\": \"scatterpolar\"}], \"scatterpolargl\": [{\"marker\": {\"colorbar\": {\"outlinewidth\": 0, \"ticks\": \"\"}}, \"type\": \"scatterpolargl\"}], \"scatterternary\": [{\"marker\": {\"colorbar\": {\"outlinewidth\": 0, \"ticks\": \"\"}}, \"type\": \"scatterternary\"}], \"surface\": [{\"colorbar\": {\"outlinewidth\": 0, \"ticks\": \"\"}, \"colorscale\": [[0.0, \"#0d0887\"], [0.1111111111111111, \"#46039f\"], [0.2222222222222222, \"#7201a8\"], [0.3333333333333333, \"#9c179e\"], [0.4444444444444444, \"#bd3786\"], [0.5555555555555556, \"#d8576b\"], [0.6666666666666666, \"#ed7953\"], [0.7777777777777778, \"#fb9f3a\"], [0.8888888888888888, \"#fdca26\"], [1.0, \"#f0f921\"]], \"type\": \"surface\"}], \"table\": [{\"cells\": {\"fill\": {\"color\": \"#EBF0F8\"}, \"line\": {\"color\": \"white\"}}, \"header\": {\"fill\": {\"color\": \"#C8D4E3\"}, \"line\": {\"color\": \"white\"}}, \"type\": \"table\"}]}, \"layout\": {\"annotationdefaults\": {\"arrowcolor\": \"#2a3f5f\", \"arrowhead\": 0, \"arrowwidth\": 1}, \"coloraxis\": {\"colorbar\": {\"outlinewidth\": 0, \"ticks\": \"\"}}, \"colorscale\": {\"diverging\": [[0, \"#8e0152\"], [0.1, \"#c51b7d\"], [0.2, \"#de77ae\"], [0.3, \"#f1b6da\"], [0.4, \"#fde0ef\"], [0.5, \"#f7f7f7\"], [0.6, \"#e6f5d0\"], [0.7, \"#b8e186\"], [0.8, \"#7fbc41\"], [0.9, \"#4d9221\"], [1, \"#276419\"]], \"sequential\": [[0.0, \"#0d0887\"], [0.1111111111111111, \"#46039f\"], [0.2222222222222222, \"#7201a8\"], [0.3333333333333333, \"#9c179e\"], [0.4444444444444444, \"#bd3786\"], [0.5555555555555556, \"#d8576b\"], [0.6666666666666666, \"#ed7953\"], [0.7777777777777778, \"#fb9f3a\"], [0.8888888888888888, \"#fdca26\"], [1.0, \"#f0f921\"]], \"sequentialminus\": [[0.0, \"#0d0887\"], [0.1111111111111111, \"#46039f\"], [0.2222222222222222, \"#7201a8\"], [0.3333333333333333, \"#9c179e\"], [0.4444444444444444, \"#bd3786\"], [0.5555555555555556, \"#d8576b\"], [0.6666666666666666, \"#ed7953\"], [0.7777777777777778, \"#fb9f3a\"], [0.8888888888888888, \"#fdca26\"], [1.0, \"#f0f921\"]]}, \"colorway\": [\"#636efa\", \"#EF553B\", \"#00cc96\", \"#ab63fa\", \"#FFA15A\", \"#19d3f3\", \"#FF6692\", \"#B6E880\", \"#FF97FF\", \"#FECB52\"], \"font\": {\"color\": \"#2a3f5f\"}, \"geo\": {\"bgcolor\": \"white\", \"lakecolor\": \"white\", \"landcolor\": \"#E5ECF6\", \"showlakes\": true, \"showland\": true, \"subunitcolor\": \"white\"}, \"hoverlabel\": {\"align\": \"left\"}, \"hovermode\": \"closest\", \"mapbox\": {\"style\": \"light\"}, \"paper_bgcolor\": \"white\", \"plot_bgcolor\": \"#E5ECF6\", \"polar\": {\"angularaxis\": {\"gridcolor\": \"white\", \"linecolor\": \"white\", \"ticks\": \"\"}, \"bgcolor\": \"#E5ECF6\", \"radialaxis\": {\"gridcolor\": \"white\", \"linecolor\": \"white\", \"ticks\": \"\"}}, \"scene\": {\"xaxis\": {\"backgroundcolor\": \"#E5ECF6\", \"gridcolor\": \"white\", \"gridwidth\": 2, \"linecolor\": \"white\", \"showbackground\": true, \"ticks\": \"\", \"zerolinecolor\": \"white\"}, \"yaxis\": {\"backgroundcolor\": \"#E5ECF6\", \"gridcolor\": \"white\", \"gridwidth\": 2, \"linecolor\": \"white\", \"showbackground\": true, \"ticks\": \"\", \"zerolinecolor\": \"white\"}, \"zaxis\": {\"backgroundcolor\": \"#E5ECF6\", \"gridcolor\": \"white\", \"gridwidth\": 2, \"linecolor\": \"white\", \"showbackground\": true, \"ticks\": \"\", \"zerolinecolor\": \"white\"}}, \"shapedefaults\": {\"line\": {\"color\": \"#2a3f5f\"}}, \"ternary\": {\"aaxis\": {\"gridcolor\": \"white\", \"linecolor\": \"white\", \"ticks\": \"\"}, \"baxis\": {\"gridcolor\": \"white\", \"linecolor\": \"white\", \"ticks\": \"\"}, \"bgcolor\": \"#E5ECF6\", \"caxis\": {\"gridcolor\": \"white\", \"linecolor\": \"white\", \"ticks\": \"\"}}, \"title\": {\"x\": 0.05}, \"xaxis\": {\"automargin\": true, \"gridcolor\": \"white\", \"linecolor\": \"white\", \"ticks\": \"\", \"title\": {\"standoff\": 15}, \"zerolinecolor\": \"white\", \"zerolinewidth\": 2}, \"yaxis\": {\"automargin\": true, \"gridcolor\": \"white\", \"linecolor\": \"white\", \"ticks\": \"\", \"title\": {\"standoff\": 15}, \"zerolinecolor\": \"white\", \"zerolinewidth\": 2}}}, \"title\": {\"text\": \"Performance over time\"}, \"xaxis\": {\"anchor\": \"y\", \"domain\": [0.0, 0.45]}, \"xaxis2\": {\"anchor\": \"y2\", \"domain\": [0.55, 1.0]}, \"xaxis3\": {\"anchor\": \"y3\", \"domain\": [0.0, 0.45]}, \"xaxis4\": {\"anchor\": \"y4\", \"domain\": [0.55, 1.0]}, \"yaxis\": {\"anchor\": \"x\", \"domain\": [0.625, 1.0]}, \"yaxis2\": {\"anchor\": \"x2\", \"domain\": [0.625, 1.0]}, \"yaxis3\": {\"anchor\": \"x3\", \"domain\": [0.0, 0.375]}, \"yaxis4\": {\"anchor\": \"x4\", \"domain\": [0.0, 0.375]}},\n",
              "                        {\"responsive\": true}\n",
              "                    ).then(function(){\n",
              "                            \n",
              "var gd = document.getElementById('1bcce2db-ef48-4d54-8189-e9a1ab333ece');\n",
              "var x = new MutationObserver(function (mutations, observer) {{\n",
              "        var display = window.getComputedStyle(gd).display;\n",
              "        if (!display || display === 'none') {{\n",
              "            console.log([gd, 'removed!']);\n",
              "            Plotly.purge(gd);\n",
              "            observer.disconnect();\n",
              "        }}\n",
              "}});\n",
              "\n",
              "// Listen for the removal of the full notebook cells\n",
              "var notebookContainer = gd.closest('#notebook-container');\n",
              "if (notebookContainer) {{\n",
              "    x.observe(notebookContainer, {childList: true});\n",
              "}}\n",
              "\n",
              "// Listen for the clearing of the current output cell\n",
              "var outputEl = gd.closest('.output');\n",
              "if (outputEl) {{\n",
              "    x.observe(outputEl, {childList: true});\n",
              "}}\n",
              "\n",
              "                        })\n",
              "                };\n",
              "                \n",
              "            </script>\n",
              "        </div>\n",
              "</body>\n",
              "</html>"
            ]
          },
          "metadata": {
            "tags": []
          }
        }
      ]
    },
    {
      "cell_type": "code",
      "metadata": {
        "colab": {
          "base_uri": "https://localhost:8080/"
        },
        "id": "ChXTzNc_1gNm",
        "outputId": "1634963a-4e96-4399-bfa1-cb178b0df8d1"
      },
      "source": [
        "hist = run_experiment(num_classes=2, num_samples=1, meta_batch_size=4, epochs=1e4, verbose=False)"
      ],
      "execution_count": 55,
      "outputs": [
        {
          "output_type": "stream",
          "text": [
            "... Starts training ...\n",
            "Time: 12:15:13.837327\n",
            "Time: 12:20:26.005138\n",
            "... Training ended ...\n"
          ],
          "name": "stdout"
        }
      ]
    },
    {
      "cell_type": "code",
      "metadata": {
        "id": "-f6P102H1lpP"
      },
      "source": [
        "steps = hist[:,0]\n",
        "train_losses = hist[:,1]\n",
        "test_losses  = hist[:,2]\n",
        "test_accurs  = hist[:,3]\n"
      ],
      "execution_count": 56,
      "outputs": []
    },
    {
      "cell_type": "code",
      "metadata": {
        "colab": {
          "base_uri": "https://localhost:8080/",
          "height": 1000
        },
        "id": "mJgds5qI1n_9",
        "outputId": "88c82de2-7bb3-41d0-de17-7c709f478f31"
      },
      "source": [
        "fig = make_subplots(rows=2, cols=2,\n",
        "                    subplot_titles=(\"Training Loss\", \"Test Loss\", \"Test Accuracy\", \"Losses\"))\n",
        "fig.add_trace(go.Scatter(x=steps, y=train_losses, name='Train Loss', line=dict(color=\"blue\")),\n",
        "              row=1, col=1\n",
        "              )\n",
        "fig.add_trace(go.Scatter(x=steps, y=test_losses, name='Test Loss', line=dict(color=\"red\")),\n",
        "              row=1, col=2\n",
        "              )\n",
        "fig.add_trace(go.Scatter(x=steps, y=test_accurs, name='Test Acc'),\n",
        "              row=2, col=1\n",
        "              )\n",
        "fig.add_trace(go.Scatter(x=steps, y=train_losses, name='Train Loss', line=dict(color=\"blue\")),\n",
        "              row=2, col=2\n",
        "              )\n",
        "fig.add_trace(go.Scatter(x=steps, y=test_losses, name='Test Loss', line=dict(color=\"red\")),\n",
        "              row=2, col=2\n",
        "              )\n",
        "fig.update_layout(height=1000, title_text=\"Performance over time\")\n",
        "fig.show()"
      ],
      "execution_count": 57,
      "outputs": [
        {
          "output_type": "display_data",
          "data": {
            "text/html": [
              "<html>\n",
              "<head><meta charset=\"utf-8\" /></head>\n",
              "<body>\n",
              "    <div>\n",
              "            <script src=\"https://cdnjs.cloudflare.com/ajax/libs/mathjax/2.7.5/MathJax.js?config=TeX-AMS-MML_SVG\"></script><script type=\"text/javascript\">if (window.MathJax) {MathJax.Hub.Config({SVG: {font: \"STIX-Web\"}});}</script>\n",
              "                <script type=\"text/javascript\">window.PlotlyConfig = {MathJaxConfig: 'local'};</script>\n",
              "        <script src=\"https://cdn.plot.ly/plotly-latest.min.js\"></script>    \n",
              "            <div id=\"7591bdf8-fb09-4513-9277-268a4599a4fc\" class=\"plotly-graph-div\" style=\"height:1000px; width:100%;\"></div>\n",
              "            <script type=\"text/javascript\">\n",
              "                \n",
              "                    window.PLOTLYENV=window.PLOTLYENV || {};\n",
              "                    \n",
              "                if (document.getElementById(\"7591bdf8-fb09-4513-9277-268a4599a4fc\")) {\n",
              "                    Plotly.newPlot(\n",
              "                        '7591bdf8-fb09-4513-9277-268a4599a4fc',\n",
              "                        [{\"line\": {\"color\": \"blue\"}, \"name\": \"Train Loss\", \"type\": \"scatter\", \"x\": [0.0, 100.0, 200.0, 300.0, 400.0, 500.0, 600.0, 700.0, 800.0, 900.0, 1000.0, 1100.0, 1200.0, 1300.0, 1400.0, 1500.0, 1600.0, 1700.0, 1800.0, 1900.0, 2000.0, 2100.0, 2200.0, 2300.0, 2400.0, 2500.0, 2600.0, 2700.0, 2800.0, 2900.0, 3000.0, 3100.0, 3200.0, 3300.0, 3400.0, 3500.0, 3600.0, 3700.0, 3800.0, 3900.0, 4000.0, 4100.0, 4200.0, 4300.0, 4400.0, 4500.0, 4600.0, 4700.0, 4800.0, 4900.0, 5000.0, 5100.0, 5200.0, 5300.0, 5400.0, 5500.0, 5600.0, 5700.0, 5800.0, 5900.0, 6000.0, 6100.0, 6200.0, 6300.0, 6400.0, 6500.0, 6600.0, 6700.0, 6800.0, 6900.0, 7000.0, 7100.0, 7200.0, 7300.0, 7400.0, 7500.0, 7600.0, 7700.0, 7800.0, 7900.0, 8000.0, 8100.0, 8200.0, 8300.0, 8400.0, 8500.0, 8600.0, 8700.0, 8800.0, 8900.0, 9000.0, 9100.0, 9200.0, 9300.0, 9400.0, 9500.0, 9600.0, 9700.0, 9800.0, 9900.0, 9999.0], \"xaxis\": \"x\", \"y\": [5.590689182281494, 1.5571643114089966, 1.3409452438354492, 1.3127360343933105, 1.3378832340240479, 1.3050427436828613, 1.3047995567321777, 1.3052120208740234, 1.306118369102478, 1.3028666973114014, 1.3023170232772827, 1.30185067653656, 1.3021454811096191, 1.3433442115783691, 1.3018620014190674, 1.303640604019165, 1.301824927330017, 1.301609754562378, 1.3042653799057007, 1.3016469478607178, 1.3017380237579346, 1.3015761375427246, 1.3019495010375977, 1.301622748374939, 1.301547646522522, 3.2297492027282715, 1.3015046119689941, 1.3019706010818481, 1.3017215728759766, 1.3015282154083252, 1.3015230894088745, 1.3014743328094482, 1.3022761344909668, 1.3016259670257568, 1.3016846179962158, 1.3017634153366089, 1.3101143836975098, 1.3015936613082886, 1.301780104637146, 1.301853895187378, 1.3014872074127197, 1.3014509677886963, 1.3017709255218506, 1.3014492988586426, 1.3014123439788818, 1.3022854328155518, 1.3029978275299072, 1.3014283180236816, 1.3014403581619263, 1.3014570474624634, 1.301452398300171, 1.3017213344573975, 1.301417589187622, 1.3016302585601807, 1.3013995885849, 1.3014671802520752, 1.3014237880706787, 1.3014159202575684, 1.3014497756958008, 1.3014156818389893, 1.3014096021652222, 1.3014119863510132, 1.3014070987701416, 1.3013924360275269, 1.3013865947723389, 1.3013865947723389, 1.3013817071914673, 1.301377534866333, 1.3013767004013062, 1.3013741970062256, 1.3013743162155151, 1.3014988899230957, 1.3013709783554077, 1.3013758659362793, 1.3013850450515747, 1.301480770111084, 1.3013699054718018, 1.301385521888733, 1.3013627529144287, 1.3013676404953003, 1.301363229751587, 1.301358699798584, 1.3019143342971802, 1.3017431497573853, 1.3013615608215332, 1.3013591766357422, 1.3013604879379272, 1.3013548851013184, 1.3013547658920288, 1.301352620124817, 1.3013702630996704, 1.301352620124817, 1.3013556003570557, 1.3013699054718018, 1.3013540506362915, 1.301370620727539, 1.301356554031372, 1.3013529777526855, 1.301350712776184, 1.301375150680542, 1.301382303237915], \"yaxis\": \"y\"}, {\"line\": {\"color\": \"red\"}, \"name\": \"Test Loss\", \"type\": \"scatter\", \"x\": [0.0, 100.0, 200.0, 300.0, 400.0, 500.0, 600.0, 700.0, 800.0, 900.0, 1000.0, 1100.0, 1200.0, 1300.0, 1400.0, 1500.0, 1600.0, 1700.0, 1800.0, 1900.0, 2000.0, 2100.0, 2200.0, 2300.0, 2400.0, 2500.0, 2600.0, 2700.0, 2800.0, 2900.0, 3000.0, 3100.0, 3200.0, 3300.0, 3400.0, 3500.0, 3600.0, 3700.0, 3800.0, 3900.0, 4000.0, 4100.0, 4200.0, 4300.0, 4400.0, 4500.0, 4600.0, 4700.0, 4800.0, 4900.0, 5000.0, 5100.0, 5200.0, 5300.0, 5400.0, 5500.0, 5600.0, 5700.0, 5800.0, 5900.0, 6000.0, 6100.0, 6200.0, 6300.0, 6400.0, 6500.0, 6600.0, 6700.0, 6800.0, 6900.0, 7000.0, 7100.0, 7200.0, 7300.0, 7400.0, 7500.0, 7600.0, 7700.0, 7800.0, 7900.0, 8000.0, 8100.0, 8200.0, 8300.0, 8400.0, 8500.0, 8600.0, 8700.0, 8800.0, 8900.0, 9000.0, 9100.0, 9200.0, 9300.0, 9400.0, 9500.0, 9600.0, 9700.0, 9800.0, 9900.0, 9999.0], \"xaxis\": \"x2\", \"y\": [1366.9901123046875, 412.8575134277344, 359.98529052734375, 350.9373779296875, 350.37420654296875, 335.4002685546875, 334.469482421875, 343.3346252441406, 333.8795471191406, 336.0755920410156, 327.0193176269531, 328.0863342285156, 330.0907897949219, 328.4921875, 329.4161376953125, 327.6524963378906, 330.95294189453125, 327.63397216796875, 329.59197998046875, 329.4936218261719, 332.202880859375, 329.3042297363281, 326.6034240722656, 330.4140625, 325.9256286621094, 326.69390869140625, 325.8712158203125, 331.9785461425781, 325.86737060546875, 327.55126953125, 327.3874816894531, 325.65399169921875, 325.5114440917969, 331.1141357421875, 327.02978515625, 325.5901794433594, 333.9345703125, 327.52349853515625, 328.16168212890625, 327.86798095703125, 329.30230712890625, 325.4237365722656, 328.5240783691406, 329.197021484375, 329.47705078125, 330.9720764160156, 326.1785583496094, 325.3842468261719, 325.38958740234375, 325.44244384765625, 327.3240661621094, 325.379150390625, 325.3759765625, 334.51727294921875, 331.7775573730469, 325.38336181640625, 325.3725280761719, 326.20074462890625, 325.3856506347656, 325.3774719238281, 325.36993408203125, 325.36297607421875, 327.292236328125, 325.3663635253906, 327.286865234375, 325.3608703613281, 325.35699462890625, 325.35662841796875, 325.3591003417969, 325.3714904785156, 325.3548889160156, 325.3544616699219, 325.3515625, 325.35064697265625, 325.35443115234375, 325.3507385253906, 325.3500671386719, 327.2763977050781, 327.28070068359375, 325.3518371582031, 325.76959228515625, 325.3475036621094, 325.34600830078125, 325.3483581542969, 325.34844970703125, 327.2733459472656, 325.345703125, 325.34686279296875, 325.3450622558594, 325.342529296875, 325.3491516113281, 327.264404296875, 325.4457702636719, 325.3429260253906, 327.2707214355469, 325.34442138671875, 325.34405517578125, 325.34478759765625, 325.3415222167969, 338.91998291015625, 325.3482360839844], \"yaxis\": \"y2\"}, {\"name\": \"Test Acc\", \"type\": \"scatter\", \"x\": [0.0, 100.0, 200.0, 300.0, 400.0, 500.0, 600.0, 700.0, 800.0, 900.0, 1000.0, 1100.0, 1200.0, 1300.0, 1400.0, 1500.0, 1600.0, 1700.0, 1800.0, 1900.0, 2000.0, 2100.0, 2200.0, 2300.0, 2400.0, 2500.0, 2600.0, 2700.0, 2800.0, 2900.0, 3000.0, 3100.0, 3200.0, 3300.0, 3400.0, 3500.0, 3600.0, 3700.0, 3800.0, 3900.0, 4000.0, 4100.0, 4200.0, 4300.0, 4400.0, 4500.0, 4600.0, 4700.0, 4800.0, 4900.0, 5000.0, 5100.0, 5200.0, 5300.0, 5400.0, 5500.0, 5600.0, 5700.0, 5800.0, 5900.0, 6000.0, 6100.0, 6200.0, 6300.0, 6400.0, 6500.0, 6600.0, 6700.0, 6800.0, 6900.0, 7000.0, 7100.0, 7200.0, 7300.0, 7400.0, 7500.0, 7600.0, 7700.0, 7800.0, 7900.0, 8000.0, 8100.0, 8200.0, 8300.0, 8400.0, 8500.0, 8600.0, 8700.0, 8800.0, 8900.0, 9000.0, 9100.0, 9200.0, 9300.0, 9400.0, 9500.0, 9600.0, 9700.0, 9800.0, 9900.0, 9999.0], \"xaxis\": \"x3\", \"y\": [0.5005000233650208, 0.9879999756813049, 0.9929999709129333, 0.9934999942779541, 0.9950000047683716, 0.9980000257492065, 0.9984999895095825, 0.9944999814033508, 0.9980000257492065, 0.996999979019165, 0.9994999766349792, 0.9994999766349792, 0.9990000128746033, 0.9994999766349792, 0.9990000128746033, 0.9994999766349792, 0.9984999895095825, 0.9990000128746033, 0.9990000128746033, 0.9990000128746033, 0.9980000257492065, 0.9990000128746033, 0.9994999766349792, 0.9984999895095825, 1.0, 0.9994999766349792, 1.0, 0.9980000257492065, 1.0, 0.9994999766349792, 0.9994999766349792, 1.0, 1.0, 0.9984999895095825, 0.9994999766349792, 1.0, 0.9975000023841858, 0.9994999766349792, 0.9990000128746033, 0.9994999766349792, 0.9990000128746033, 1.0, 0.9990000128746033, 0.9990000128746033, 0.9984999895095825, 0.9984999895095825, 1.0, 1.0, 1.0, 1.0, 0.9994999766349792, 1.0, 1.0, 0.996999979019165, 0.9980000257492065, 1.0, 1.0, 0.9994999766349792, 1.0, 1.0, 1.0, 1.0, 0.9994999766349792, 1.0, 0.9994999766349792, 1.0, 1.0, 1.0, 1.0, 1.0, 1.0, 1.0, 1.0, 1.0, 1.0, 1.0, 1.0, 0.9994999766349792, 0.9994999766349792, 1.0, 1.0, 1.0, 1.0, 1.0, 1.0, 0.9994999766349792, 1.0, 1.0, 1.0, 1.0, 1.0, 0.9994999766349792, 1.0, 1.0, 0.9994999766349792, 1.0, 1.0, 1.0, 1.0, 0.9950000047683716, 1.0], \"yaxis\": \"y3\"}, {\"line\": {\"color\": \"blue\"}, \"name\": \"Train Loss\", \"type\": \"scatter\", \"x\": [0.0, 100.0, 200.0, 300.0, 400.0, 500.0, 600.0, 700.0, 800.0, 900.0, 1000.0, 1100.0, 1200.0, 1300.0, 1400.0, 1500.0, 1600.0, 1700.0, 1800.0, 1900.0, 2000.0, 2100.0, 2200.0, 2300.0, 2400.0, 2500.0, 2600.0, 2700.0, 2800.0, 2900.0, 3000.0, 3100.0, 3200.0, 3300.0, 3400.0, 3500.0, 3600.0, 3700.0, 3800.0, 3900.0, 4000.0, 4100.0, 4200.0, 4300.0, 4400.0, 4500.0, 4600.0, 4700.0, 4800.0, 4900.0, 5000.0, 5100.0, 5200.0, 5300.0, 5400.0, 5500.0, 5600.0, 5700.0, 5800.0, 5900.0, 6000.0, 6100.0, 6200.0, 6300.0, 6400.0, 6500.0, 6600.0, 6700.0, 6800.0, 6900.0, 7000.0, 7100.0, 7200.0, 7300.0, 7400.0, 7500.0, 7600.0, 7700.0, 7800.0, 7900.0, 8000.0, 8100.0, 8200.0, 8300.0, 8400.0, 8500.0, 8600.0, 8700.0, 8800.0, 8900.0, 9000.0, 9100.0, 9200.0, 9300.0, 9400.0, 9500.0, 9600.0, 9700.0, 9800.0, 9900.0, 9999.0], \"xaxis\": \"x4\", \"y\": [5.590689182281494, 1.5571643114089966, 1.3409452438354492, 1.3127360343933105, 1.3378832340240479, 1.3050427436828613, 1.3047995567321777, 1.3052120208740234, 1.306118369102478, 1.3028666973114014, 1.3023170232772827, 1.30185067653656, 1.3021454811096191, 1.3433442115783691, 1.3018620014190674, 1.303640604019165, 1.301824927330017, 1.301609754562378, 1.3042653799057007, 1.3016469478607178, 1.3017380237579346, 1.3015761375427246, 1.3019495010375977, 1.301622748374939, 1.301547646522522, 3.2297492027282715, 1.3015046119689941, 1.3019706010818481, 1.3017215728759766, 1.3015282154083252, 1.3015230894088745, 1.3014743328094482, 1.3022761344909668, 1.3016259670257568, 1.3016846179962158, 1.3017634153366089, 1.3101143836975098, 1.3015936613082886, 1.301780104637146, 1.301853895187378, 1.3014872074127197, 1.3014509677886963, 1.3017709255218506, 1.3014492988586426, 1.3014123439788818, 1.3022854328155518, 1.3029978275299072, 1.3014283180236816, 1.3014403581619263, 1.3014570474624634, 1.301452398300171, 1.3017213344573975, 1.301417589187622, 1.3016302585601807, 1.3013995885849, 1.3014671802520752, 1.3014237880706787, 1.3014159202575684, 1.3014497756958008, 1.3014156818389893, 1.3014096021652222, 1.3014119863510132, 1.3014070987701416, 1.3013924360275269, 1.3013865947723389, 1.3013865947723389, 1.3013817071914673, 1.301377534866333, 1.3013767004013062, 1.3013741970062256, 1.3013743162155151, 1.3014988899230957, 1.3013709783554077, 1.3013758659362793, 1.3013850450515747, 1.301480770111084, 1.3013699054718018, 1.301385521888733, 1.3013627529144287, 1.3013676404953003, 1.301363229751587, 1.301358699798584, 1.3019143342971802, 1.3017431497573853, 1.3013615608215332, 1.3013591766357422, 1.3013604879379272, 1.3013548851013184, 1.3013547658920288, 1.301352620124817, 1.3013702630996704, 1.301352620124817, 1.3013556003570557, 1.3013699054718018, 1.3013540506362915, 1.301370620727539, 1.301356554031372, 1.3013529777526855, 1.301350712776184, 1.301375150680542, 1.301382303237915], \"yaxis\": \"y4\"}, {\"line\": {\"color\": \"red\"}, \"name\": \"Test Loss\", \"type\": \"scatter\", \"x\": [0.0, 100.0, 200.0, 300.0, 400.0, 500.0, 600.0, 700.0, 800.0, 900.0, 1000.0, 1100.0, 1200.0, 1300.0, 1400.0, 1500.0, 1600.0, 1700.0, 1800.0, 1900.0, 2000.0, 2100.0, 2200.0, 2300.0, 2400.0, 2500.0, 2600.0, 2700.0, 2800.0, 2900.0, 3000.0, 3100.0, 3200.0, 3300.0, 3400.0, 3500.0, 3600.0, 3700.0, 3800.0, 3900.0, 4000.0, 4100.0, 4200.0, 4300.0, 4400.0, 4500.0, 4600.0, 4700.0, 4800.0, 4900.0, 5000.0, 5100.0, 5200.0, 5300.0, 5400.0, 5500.0, 5600.0, 5700.0, 5800.0, 5900.0, 6000.0, 6100.0, 6200.0, 6300.0, 6400.0, 6500.0, 6600.0, 6700.0, 6800.0, 6900.0, 7000.0, 7100.0, 7200.0, 7300.0, 7400.0, 7500.0, 7600.0, 7700.0, 7800.0, 7900.0, 8000.0, 8100.0, 8200.0, 8300.0, 8400.0, 8500.0, 8600.0, 8700.0, 8800.0, 8900.0, 9000.0, 9100.0, 9200.0, 9300.0, 9400.0, 9500.0, 9600.0, 9700.0, 9800.0, 9900.0, 9999.0], \"xaxis\": \"x4\", \"y\": [1366.9901123046875, 412.8575134277344, 359.98529052734375, 350.9373779296875, 350.37420654296875, 335.4002685546875, 334.469482421875, 343.3346252441406, 333.8795471191406, 336.0755920410156, 327.0193176269531, 328.0863342285156, 330.0907897949219, 328.4921875, 329.4161376953125, 327.6524963378906, 330.95294189453125, 327.63397216796875, 329.59197998046875, 329.4936218261719, 332.202880859375, 329.3042297363281, 326.6034240722656, 330.4140625, 325.9256286621094, 326.69390869140625, 325.8712158203125, 331.9785461425781, 325.86737060546875, 327.55126953125, 327.3874816894531, 325.65399169921875, 325.5114440917969, 331.1141357421875, 327.02978515625, 325.5901794433594, 333.9345703125, 327.52349853515625, 328.16168212890625, 327.86798095703125, 329.30230712890625, 325.4237365722656, 328.5240783691406, 329.197021484375, 329.47705078125, 330.9720764160156, 326.1785583496094, 325.3842468261719, 325.38958740234375, 325.44244384765625, 327.3240661621094, 325.379150390625, 325.3759765625, 334.51727294921875, 331.7775573730469, 325.38336181640625, 325.3725280761719, 326.20074462890625, 325.3856506347656, 325.3774719238281, 325.36993408203125, 325.36297607421875, 327.292236328125, 325.3663635253906, 327.286865234375, 325.3608703613281, 325.35699462890625, 325.35662841796875, 325.3591003417969, 325.3714904785156, 325.3548889160156, 325.3544616699219, 325.3515625, 325.35064697265625, 325.35443115234375, 325.3507385253906, 325.3500671386719, 327.2763977050781, 327.28070068359375, 325.3518371582031, 325.76959228515625, 325.3475036621094, 325.34600830078125, 325.3483581542969, 325.34844970703125, 327.2733459472656, 325.345703125, 325.34686279296875, 325.3450622558594, 325.342529296875, 325.3491516113281, 327.264404296875, 325.4457702636719, 325.3429260253906, 327.2707214355469, 325.34442138671875, 325.34405517578125, 325.34478759765625, 325.3415222167969, 338.91998291015625, 325.3482360839844], \"yaxis\": \"y4\"}],\n",
              "                        {\"annotations\": [{\"font\": {\"size\": 16}, \"showarrow\": false, \"text\": \"Training Loss\", \"x\": 0.225, \"xanchor\": \"center\", \"xref\": \"paper\", \"y\": 1.0, \"yanchor\": \"bottom\", \"yref\": \"paper\"}, {\"font\": {\"size\": 16}, \"showarrow\": false, \"text\": \"Test Loss\", \"x\": 0.775, \"xanchor\": \"center\", \"xref\": \"paper\", \"y\": 1.0, \"yanchor\": \"bottom\", \"yref\": \"paper\"}, {\"font\": {\"size\": 16}, \"showarrow\": false, \"text\": \"Test Accuracy\", \"x\": 0.225, \"xanchor\": \"center\", \"xref\": \"paper\", \"y\": 0.375, \"yanchor\": \"bottom\", \"yref\": \"paper\"}, {\"font\": {\"size\": 16}, \"showarrow\": false, \"text\": \"Losses\", \"x\": 0.775, \"xanchor\": \"center\", \"xref\": \"paper\", \"y\": 0.375, \"yanchor\": \"bottom\", \"yref\": \"paper\"}], \"height\": 1000, \"template\": {\"data\": {\"bar\": [{\"error_x\": {\"color\": \"#2a3f5f\"}, \"error_y\": {\"color\": \"#2a3f5f\"}, \"marker\": {\"line\": {\"color\": \"#E5ECF6\", \"width\": 0.5}}, \"type\": \"bar\"}], \"barpolar\": [{\"marker\": {\"line\": {\"color\": \"#E5ECF6\", \"width\": 0.5}}, \"type\": \"barpolar\"}], \"carpet\": [{\"aaxis\": {\"endlinecolor\": \"#2a3f5f\", \"gridcolor\": \"white\", \"linecolor\": \"white\", \"minorgridcolor\": \"white\", \"startlinecolor\": \"#2a3f5f\"}, \"baxis\": {\"endlinecolor\": \"#2a3f5f\", \"gridcolor\": \"white\", \"linecolor\": \"white\", \"minorgridcolor\": \"white\", \"startlinecolor\": \"#2a3f5f\"}, \"type\": \"carpet\"}], \"choropleth\": [{\"colorbar\": {\"outlinewidth\": 0, \"ticks\": \"\"}, \"type\": \"choropleth\"}], \"contour\": [{\"colorbar\": {\"outlinewidth\": 0, \"ticks\": \"\"}, \"colorscale\": [[0.0, \"#0d0887\"], [0.1111111111111111, \"#46039f\"], [0.2222222222222222, \"#7201a8\"], [0.3333333333333333, \"#9c179e\"], [0.4444444444444444, \"#bd3786\"], [0.5555555555555556, \"#d8576b\"], [0.6666666666666666, \"#ed7953\"], [0.7777777777777778, \"#fb9f3a\"], [0.8888888888888888, \"#fdca26\"], [1.0, \"#f0f921\"]], \"type\": \"contour\"}], \"contourcarpet\": [{\"colorbar\": {\"outlinewidth\": 0, \"ticks\": \"\"}, \"type\": \"contourcarpet\"}], \"heatmap\": [{\"colorbar\": {\"outlinewidth\": 0, \"ticks\": \"\"}, \"colorscale\": [[0.0, \"#0d0887\"], [0.1111111111111111, \"#46039f\"], [0.2222222222222222, \"#7201a8\"], [0.3333333333333333, \"#9c179e\"], [0.4444444444444444, \"#bd3786\"], [0.5555555555555556, \"#d8576b\"], [0.6666666666666666, \"#ed7953\"], [0.7777777777777778, \"#fb9f3a\"], [0.8888888888888888, \"#fdca26\"], [1.0, \"#f0f921\"]], \"type\": \"heatmap\"}], \"heatmapgl\": [{\"colorbar\": {\"outlinewidth\": 0, \"ticks\": \"\"}, \"colorscale\": [[0.0, \"#0d0887\"], [0.1111111111111111, \"#46039f\"], [0.2222222222222222, \"#7201a8\"], [0.3333333333333333, \"#9c179e\"], [0.4444444444444444, \"#bd3786\"], [0.5555555555555556, \"#d8576b\"], [0.6666666666666666, \"#ed7953\"], [0.7777777777777778, \"#fb9f3a\"], [0.8888888888888888, \"#fdca26\"], [1.0, \"#f0f921\"]], \"type\": \"heatmapgl\"}], \"histogram\": [{\"marker\": {\"colorbar\": {\"outlinewidth\": 0, \"ticks\": \"\"}}, \"type\": \"histogram\"}], \"histogram2d\": [{\"colorbar\": {\"outlinewidth\": 0, \"ticks\": \"\"}, \"colorscale\": [[0.0, \"#0d0887\"], [0.1111111111111111, \"#46039f\"], [0.2222222222222222, \"#7201a8\"], [0.3333333333333333, \"#9c179e\"], [0.4444444444444444, \"#bd3786\"], [0.5555555555555556, \"#d8576b\"], [0.6666666666666666, \"#ed7953\"], [0.7777777777777778, \"#fb9f3a\"], [0.8888888888888888, \"#fdca26\"], [1.0, \"#f0f921\"]], \"type\": \"histogram2d\"}], \"histogram2dcontour\": [{\"colorbar\": {\"outlinewidth\": 0, \"ticks\": \"\"}, \"colorscale\": [[0.0, \"#0d0887\"], [0.1111111111111111, \"#46039f\"], [0.2222222222222222, \"#7201a8\"], [0.3333333333333333, \"#9c179e\"], [0.4444444444444444, \"#bd3786\"], [0.5555555555555556, \"#d8576b\"], [0.6666666666666666, \"#ed7953\"], [0.7777777777777778, \"#fb9f3a\"], [0.8888888888888888, \"#fdca26\"], [1.0, \"#f0f921\"]], \"type\": \"histogram2dcontour\"}], \"mesh3d\": [{\"colorbar\": {\"outlinewidth\": 0, \"ticks\": \"\"}, \"type\": \"mesh3d\"}], \"parcoords\": [{\"line\": {\"colorbar\": {\"outlinewidth\": 0, \"ticks\": \"\"}}, \"type\": \"parcoords\"}], \"pie\": [{\"automargin\": true, \"type\": \"pie\"}], \"scatter\": [{\"marker\": {\"colorbar\": {\"outlinewidth\": 0, \"ticks\": \"\"}}, \"type\": \"scatter\"}], \"scatter3d\": [{\"line\": {\"colorbar\": {\"outlinewidth\": 0, \"ticks\": \"\"}}, \"marker\": {\"colorbar\": {\"outlinewidth\": 0, \"ticks\": \"\"}}, \"type\": \"scatter3d\"}], \"scattercarpet\": [{\"marker\": {\"colorbar\": {\"outlinewidth\": 0, \"ticks\": \"\"}}, \"type\": \"scattercarpet\"}], \"scattergeo\": [{\"marker\": {\"colorbar\": {\"outlinewidth\": 0, \"ticks\": \"\"}}, \"type\": \"scattergeo\"}], \"scattergl\": [{\"marker\": {\"colorbar\": {\"outlinewidth\": 0, \"ticks\": \"\"}}, \"type\": \"scattergl\"}], \"scattermapbox\": [{\"marker\": {\"colorbar\": {\"outlinewidth\": 0, \"ticks\": \"\"}}, \"type\": \"scattermapbox\"}], \"scatterpolar\": [{\"marker\": {\"colorbar\": {\"outlinewidth\": 0, \"ticks\": \"\"}}, \"type\": \"scatterpolar\"}], \"scatterpolargl\": [{\"marker\": {\"colorbar\": {\"outlinewidth\": 0, \"ticks\": \"\"}}, \"type\": \"scatterpolargl\"}], \"scatterternary\": [{\"marker\": {\"colorbar\": {\"outlinewidth\": 0, \"ticks\": \"\"}}, \"type\": \"scatterternary\"}], \"surface\": [{\"colorbar\": {\"outlinewidth\": 0, \"ticks\": \"\"}, \"colorscale\": [[0.0, \"#0d0887\"], [0.1111111111111111, \"#46039f\"], [0.2222222222222222, \"#7201a8\"], [0.3333333333333333, \"#9c179e\"], [0.4444444444444444, \"#bd3786\"], [0.5555555555555556, \"#d8576b\"], [0.6666666666666666, \"#ed7953\"], [0.7777777777777778, \"#fb9f3a\"], [0.8888888888888888, \"#fdca26\"], [1.0, \"#f0f921\"]], \"type\": \"surface\"}], \"table\": [{\"cells\": {\"fill\": {\"color\": \"#EBF0F8\"}, \"line\": {\"color\": \"white\"}}, \"header\": {\"fill\": {\"color\": \"#C8D4E3\"}, \"line\": {\"color\": \"white\"}}, \"type\": \"table\"}]}, \"layout\": {\"annotationdefaults\": {\"arrowcolor\": \"#2a3f5f\", \"arrowhead\": 0, \"arrowwidth\": 1}, \"coloraxis\": {\"colorbar\": {\"outlinewidth\": 0, \"ticks\": \"\"}}, \"colorscale\": {\"diverging\": [[0, \"#8e0152\"], [0.1, \"#c51b7d\"], [0.2, \"#de77ae\"], [0.3, \"#f1b6da\"], [0.4, \"#fde0ef\"], [0.5, \"#f7f7f7\"], [0.6, \"#e6f5d0\"], [0.7, \"#b8e186\"], [0.8, \"#7fbc41\"], [0.9, \"#4d9221\"], [1, \"#276419\"]], \"sequential\": [[0.0, \"#0d0887\"], [0.1111111111111111, \"#46039f\"], [0.2222222222222222, \"#7201a8\"], [0.3333333333333333, \"#9c179e\"], [0.4444444444444444, \"#bd3786\"], [0.5555555555555556, \"#d8576b\"], [0.6666666666666666, \"#ed7953\"], [0.7777777777777778, \"#fb9f3a\"], [0.8888888888888888, \"#fdca26\"], [1.0, \"#f0f921\"]], \"sequentialminus\": [[0.0, \"#0d0887\"], [0.1111111111111111, \"#46039f\"], [0.2222222222222222, \"#7201a8\"], [0.3333333333333333, \"#9c179e\"], [0.4444444444444444, \"#bd3786\"], [0.5555555555555556, \"#d8576b\"], [0.6666666666666666, \"#ed7953\"], [0.7777777777777778, \"#fb9f3a\"], [0.8888888888888888, \"#fdca26\"], [1.0, \"#f0f921\"]]}, \"colorway\": [\"#636efa\", \"#EF553B\", \"#00cc96\", \"#ab63fa\", \"#FFA15A\", \"#19d3f3\", \"#FF6692\", \"#B6E880\", \"#FF97FF\", \"#FECB52\"], \"font\": {\"color\": \"#2a3f5f\"}, \"geo\": {\"bgcolor\": \"white\", \"lakecolor\": \"white\", \"landcolor\": \"#E5ECF6\", \"showlakes\": true, \"showland\": true, \"subunitcolor\": \"white\"}, \"hoverlabel\": {\"align\": \"left\"}, \"hovermode\": \"closest\", \"mapbox\": {\"style\": \"light\"}, \"paper_bgcolor\": \"white\", \"plot_bgcolor\": \"#E5ECF6\", \"polar\": {\"angularaxis\": {\"gridcolor\": \"white\", \"linecolor\": \"white\", \"ticks\": \"\"}, \"bgcolor\": \"#E5ECF6\", \"radialaxis\": {\"gridcolor\": \"white\", \"linecolor\": \"white\", \"ticks\": \"\"}}, \"scene\": {\"xaxis\": {\"backgroundcolor\": \"#E5ECF6\", \"gridcolor\": \"white\", \"gridwidth\": 2, \"linecolor\": \"white\", \"showbackground\": true, \"ticks\": \"\", \"zerolinecolor\": \"white\"}, \"yaxis\": {\"backgroundcolor\": \"#E5ECF6\", \"gridcolor\": \"white\", \"gridwidth\": 2, \"linecolor\": \"white\", \"showbackground\": true, \"ticks\": \"\", \"zerolinecolor\": \"white\"}, \"zaxis\": {\"backgroundcolor\": \"#E5ECF6\", \"gridcolor\": \"white\", \"gridwidth\": 2, \"linecolor\": \"white\", \"showbackground\": true, \"ticks\": \"\", \"zerolinecolor\": \"white\"}}, \"shapedefaults\": {\"line\": {\"color\": \"#2a3f5f\"}}, \"ternary\": {\"aaxis\": {\"gridcolor\": \"white\", \"linecolor\": \"white\", \"ticks\": \"\"}, \"baxis\": {\"gridcolor\": \"white\", \"linecolor\": \"white\", \"ticks\": \"\"}, \"bgcolor\": \"#E5ECF6\", \"caxis\": {\"gridcolor\": \"white\", \"linecolor\": \"white\", \"ticks\": \"\"}}, \"title\": {\"x\": 0.05}, \"xaxis\": {\"automargin\": true, \"gridcolor\": \"white\", \"linecolor\": \"white\", \"ticks\": \"\", \"title\": {\"standoff\": 15}, \"zerolinecolor\": \"white\", \"zerolinewidth\": 2}, \"yaxis\": {\"automargin\": true, \"gridcolor\": \"white\", \"linecolor\": \"white\", \"ticks\": \"\", \"title\": {\"standoff\": 15}, \"zerolinecolor\": \"white\", \"zerolinewidth\": 2}}}, \"title\": {\"text\": \"Performance over time\"}, \"xaxis\": {\"anchor\": \"y\", \"domain\": [0.0, 0.45]}, \"xaxis2\": {\"anchor\": \"y2\", \"domain\": [0.55, 1.0]}, \"xaxis3\": {\"anchor\": \"y3\", \"domain\": [0.0, 0.45]}, \"xaxis4\": {\"anchor\": \"y4\", \"domain\": [0.55, 1.0]}, \"yaxis\": {\"anchor\": \"x\", \"domain\": [0.625, 1.0]}, \"yaxis2\": {\"anchor\": \"x2\", \"domain\": [0.625, 1.0]}, \"yaxis3\": {\"anchor\": \"x3\", \"domain\": [0.0, 0.375]}, \"yaxis4\": {\"anchor\": \"x4\", \"domain\": [0.0, 0.375]}},\n",
              "                        {\"responsive\": true}\n",
              "                    ).then(function(){\n",
              "                            \n",
              "var gd = document.getElementById('7591bdf8-fb09-4513-9277-268a4599a4fc');\n",
              "var x = new MutationObserver(function (mutations, observer) {{\n",
              "        var display = window.getComputedStyle(gd).display;\n",
              "        if (!display || display === 'none') {{\n",
              "            console.log([gd, 'removed!']);\n",
              "            Plotly.purge(gd);\n",
              "            observer.disconnect();\n",
              "        }}\n",
              "}});\n",
              "\n",
              "// Listen for the removal of the full notebook cells\n",
              "var notebookContainer = gd.closest('#notebook-container');\n",
              "if (notebookContainer) {{\n",
              "    x.observe(notebookContainer, {childList: true});\n",
              "}}\n",
              "\n",
              "// Listen for the clearing of the current output cell\n",
              "var outputEl = gd.closest('.output');\n",
              "if (outputEl) {{\n",
              "    x.observe(outputEl, {childList: true});\n",
              "}}\n",
              "\n",
              "                        })\n",
              "                };\n",
              "                \n",
              "            </script>\n",
              "        </div>\n",
              "</body>\n",
              "</html>"
            ]
          },
          "metadata": {
            "tags": []
          }
        }
      ]
    },
    {
      "cell_type": "code",
      "metadata": {
        "colab": {
          "base_uri": "https://localhost:8080/"
        },
        "id": "hypya1Hy3Nrg",
        "outputId": "e24a4960-059e-4555-c6ff-8d1536b719be"
      },
      "source": [
        "hist = run_experiment(num_classes=4, num_samples=5, meta_batch_size=4, epochs=1e4, verbose=False)"
      ],
      "execution_count": 58,
      "outputs": [
        {
          "output_type": "stream",
          "text": [
            "... Starts training ...\n",
            "Time: 12:22:19.124893\n",
            "Time: 12:47:39.118231\n",
            "... Training ended ...\n"
          ],
          "name": "stdout"
        }
      ]
    },
    {
      "cell_type": "code",
      "metadata": {
        "id": "bylXs_qx3UId"
      },
      "source": [
        "steps = hist[:,0]\n",
        "train_losses = hist[:,1]\n",
        "test_losses  = hist[:,2]\n",
        "test_accurs  = hist[:,3]\n"
      ],
      "execution_count": 59,
      "outputs": []
    },
    {
      "cell_type": "code",
      "metadata": {
        "colab": {
          "base_uri": "https://localhost:8080/",
          "height": 1000
        },
        "id": "sMi0d8-q3W2c",
        "outputId": "2292522f-c04c-47f1-c29a-602b9b6180e8"
      },
      "source": [
        "fig = make_subplots(rows=2, cols=2,\n",
        "                    subplot_titles=(\"Training Loss\", \"Test Loss\", \"Test Accuracy\", \"Losses\"))\n",
        "fig.add_trace(go.Scatter(x=steps, y=train_losses, name='Train Loss', line=dict(color=\"blue\")),\n",
        "              row=1, col=1\n",
        "              )\n",
        "fig.add_trace(go.Scatter(x=steps, y=test_losses, name='Test Loss', line=dict(color=\"red\")),\n",
        "              row=1, col=2\n",
        "              )\n",
        "fig.add_trace(go.Scatter(x=steps, y=test_accurs, name='Test Acc'),\n",
        "              row=2, col=1\n",
        "              )\n",
        "fig.add_trace(go.Scatter(x=steps, y=train_losses, name='Train Loss', line=dict(color=\"blue\")),\n",
        "              row=2, col=2\n",
        "              )\n",
        "fig.add_trace(go.Scatter(x=steps, y=test_losses, name='Test Loss', line=dict(color=\"red\")),\n",
        "              row=2, col=2\n",
        "              )\n",
        "fig.update_layout(height=1000, title_text=\"Performance over time\")\n",
        "fig.show()"
      ],
      "execution_count": 60,
      "outputs": [
        {
          "output_type": "display_data",
          "data": {
            "text/html": [
              "<html>\n",
              "<head><meta charset=\"utf-8\" /></head>\n",
              "<body>\n",
              "    <div>\n",
              "            <script src=\"https://cdnjs.cloudflare.com/ajax/libs/mathjax/2.7.5/MathJax.js?config=TeX-AMS-MML_SVG\"></script><script type=\"text/javascript\">if (window.MathJax) {MathJax.Hub.Config({SVG: {font: \"STIX-Web\"}});}</script>\n",
              "                <script type=\"text/javascript\">window.PlotlyConfig = {MathJaxConfig: 'local'};</script>\n",
              "        <script src=\"https://cdn.plot.ly/plotly-latest.min.js\"></script>    \n",
              "            <div id=\"4f7c1b8b-1cde-4e53-8c49-3137b9326796\" class=\"plotly-graph-div\" style=\"height:1000px; width:100%;\"></div>\n",
              "            <script type=\"text/javascript\">\n",
              "                \n",
              "                    window.PLOTLYENV=window.PLOTLYENV || {};\n",
              "                    \n",
              "                if (document.getElementById(\"4f7c1b8b-1cde-4e53-8c49-3137b9326796\")) {\n",
              "                    Plotly.newPlot(\n",
              "                        '4f7c1b8b-1cde-4e53-8c49-3137b9326796',\n",
              "                        [{\"line\": {\"color\": \"blue\"}, \"name\": \"Train Loss\", \"type\": \"scatter\", \"x\": [0.0, 100.0, 200.0, 300.0, 400.0, 500.0, 600.0, 700.0, 800.0, 900.0, 1000.0, 1100.0, 1200.0, 1300.0, 1400.0, 1500.0, 1600.0, 1700.0, 1800.0, 1900.0, 2000.0, 2100.0, 2200.0, 2300.0, 2400.0, 2500.0, 2600.0, 2700.0, 2800.0, 2900.0, 3000.0, 3100.0, 3200.0, 3300.0, 3400.0, 3500.0, 3600.0, 3700.0, 3800.0, 3900.0, 4000.0, 4100.0, 4200.0, 4300.0, 4400.0, 4500.0, 4600.0, 4700.0, 4800.0, 4900.0, 5000.0, 5100.0, 5200.0, 5300.0, 5400.0, 5500.0, 5600.0, 5700.0, 5800.0, 5900.0, 6000.0, 6100.0, 6200.0, 6300.0, 6400.0, 6500.0, 6600.0, 6700.0, 6800.0, 6900.0, 7000.0, 7100.0, 7200.0, 7300.0, 7400.0, 7500.0, 7600.0, 7700.0, 7800.0, 7900.0, 8000.0, 8100.0, 8200.0, 8300.0, 8400.0, 8500.0, 8600.0, 8700.0, 8800.0, 8900.0, 9000.0, 9100.0, 9200.0, 9300.0, 9400.0, 9500.0, 9600.0, 9700.0, 9800.0, 9900.0, 9999.0], \"xaxis\": \"x\", \"y\": [22.291603088378906, 21.948673248291016, 20.47743034362793, 17.942867279052734, 16.892908096313477, 19.1196231842041, 14.582496643066406, 15.937034606933594, 13.494736671447754, 24.608951568603516, 20.005245208740234, 18.35464096069336, 17.551027297973633, 17.004430770874023, 16.626678466796875, 18.284934997558594, 16.31817626953125, 16.587158203125, 18.452150344848633, 16.799945831298828, 17.757173538208008, 16.18335723876953, 18.247968673706055, 18.74642562866211, 16.194032669067383, 16.791458129882812, 16.304580688476562, 17.242523193359375, 17.199298858642578, 16.23615074157715, 16.362491607666016, 16.843944549560547, 16.212188720703125, 16.182464599609375, 16.18682861328125, 16.15123176574707, 17.66232681274414, 16.165937423706055, 16.150909423828125, 16.147621154785156, 16.150653839111328, 16.245325088500977, 17.520042419433594, 16.15206527709961, 16.149860382080078, 21.130889892578125, 20.231563568115234, 20.132728576660156, 19.059797286987305, 21.80246353149414, 19.5130615234375, 18.318628311157227, 18.30681037902832, 16.500228881835938, 16.500751495361328, 14.808601379394531, 14.807254791259766, 26.090288162231445, 26.628387451171875, 20.623756408691406, 22.044307708740234, 20.72549057006836, 23.073652267456055, 20.7496337890625, 20.40729522705078, 19.927913665771484, 19.702014923095703, 20.69955062866211, 20.24031639099121, 19.48029327392578, 20.529611587524414, 19.76283073425293, 20.526874542236328, 19.751693725585938, 20.190444946289062, 19.29998779296875, 20.482128143310547, 19.337032318115234, 20.440433502197266, 19.298831939697266, 19.728431701660156, 19.3009033203125, 19.298860549926758, 19.29877281188965, 21.33289337158203, 23.89868927001953, 23.89868927001953, 23.89868927001953, 23.89868927001953, 19.401458740234375, 19.298561096191406, 19.303625106811523, 19.298519134521484, 19.29840850830078, 19.29851531982422, 19.341108322143555, 19.298316955566406, 19.3000431060791, 18.811355590820312, 18.829565048217773, 18.81237030029297], \"yaxis\": \"y\"}, {\"line\": {\"color\": \"red\"}, \"name\": \"Test Loss\", \"type\": \"scatter\", \"x\": [0.0, 100.0, 200.0, 300.0, 400.0, 500.0, 600.0, 700.0, 800.0, 900.0, 1000.0, 1100.0, 1200.0, 1300.0, 1400.0, 1500.0, 1600.0, 1700.0, 1800.0, 1900.0, 2000.0, 2100.0, 2200.0, 2300.0, 2400.0, 2500.0, 2600.0, 2700.0, 2800.0, 2900.0, 3000.0, 3100.0, 3200.0, 3300.0, 3400.0, 3500.0, 3600.0, 3700.0, 3800.0, 3900.0, 4000.0, 4100.0, 4200.0, 4300.0, 4400.0, 4500.0, 4600.0, 4700.0, 4800.0, 4900.0, 5000.0, 5100.0, 5200.0, 5300.0, 5400.0, 5500.0, 5600.0, 5700.0, 5800.0, 5900.0, 6000.0, 6100.0, 6200.0, 6300.0, 6400.0, 6500.0, 6600.0, 6700.0, 6800.0, 6900.0, 7000.0, 7100.0, 7200.0, 7300.0, 7400.0, 7500.0, 7600.0, 7700.0, 7800.0, 7900.0, 8000.0, 8100.0, 8200.0, 8300.0, 8400.0, 8500.0, 8600.0, 8700.0, 8800.0, 8900.0, 9000.0, 9100.0, 9200.0, 9300.0, 9400.0, 9500.0, 9600.0, 9700.0, 9800.0, 9900.0, 9999.0], \"xaxis\": \"x2\", \"y\": [5589.716796875, 5532.29296875, 5000.5947265625, 4550.74462890625, 4185.11083984375, 4197.505859375, 3926.296630859375, 3864.005126953125, 3656.91455078125, 5138.84423828125, 4979.4609375, 4716.06005859375, 4563.02197265625, 4261.26806640625, 4218.8759765625, 4172.98828125, 4172.29833984375, 4119.796875, 4593.357421875, 4162.8271484375, 4102.44873046875, 4110.86328125, 4345.02685546875, 5076.673828125, 4102.6396484375, 4418.662109375, 4136.24755859375, 4417.12353515625, 4302.28271484375, 4236.4921875, 4102.75, 4135.015625, 4083.403564453125, 4111.03125, 4057.5673828125, 4048.992919921875, 4348.64990234375, 4052.199462890625, 4052.02734375, 4042.893310546875, 4048.11962890625, 4047.555419921875, 4174.6572265625, 4079.3349609375, 4075.523681640625, 5330.57470703125, 5095.28271484375, 4944.90673828125, 4840.45703125, 5334.3359375, 4744.1923828125, 4526.61474609375, 4212.7080078125, 4243.396484375, 4224.22705078125, 3826.95263671875, 3830.80029296875, 6098.8681640625, 6656.822265625, 5367.2578125, 5225.619140625, 5177.7666015625, 5599.8896484375, 5178.26806640625, 5075.962890625, 5176.3662109375, 5025.966796875, 5214.9775390625, 4994.3837890625, 4941.7333984375, 4944.43896484375, 4933.59716796875, 5041.91845703125, 4898.2490234375, 4937.3427734375, 4884.9443359375, 5290.05029296875, 4871.14111328125, 4893.345703125, 4856.15966796875, 4888.5517578125, 4900.7978515625, 4857.3779296875, 4843.8046875, 5304.298828125, 5974.6611328125, 5974.6728515625, 5974.6728515625, 5974.6728515625, 4899.91162109375, 4866.9345703125, 4894.58154296875, 4854.162109375, 4846.92529296875, 4888.8369140625, 5113.12353515625, 5040.7587890625, 4861.298828125, 4729.8603515625, 4745.48046875, 4835.6748046875], \"yaxis\": \"y2\"}, {\"name\": \"Test Acc\", \"type\": \"scatter\", \"x\": [0.0, 100.0, 200.0, 300.0, 400.0, 500.0, 600.0, 700.0, 800.0, 900.0, 1000.0, 1100.0, 1200.0, 1300.0, 1400.0, 1500.0, 1600.0, 1700.0, 1800.0, 1900.0, 2000.0, 2100.0, 2200.0, 2300.0, 2400.0, 2500.0, 2600.0, 2700.0, 2800.0, 2900.0, 3000.0, 3100.0, 3200.0, 3300.0, 3400.0, 3500.0, 3600.0, 3700.0, 3800.0, 3900.0, 4000.0, 4100.0, 4200.0, 4300.0, 4400.0, 4500.0, 4600.0, 4700.0, 4800.0, 4900.0, 5000.0, 5100.0, 5200.0, 5300.0, 5400.0, 5500.0, 5600.0, 5700.0, 5800.0, 5900.0, 6000.0, 6100.0, 6200.0, 6300.0, 6400.0, 6500.0, 6600.0, 6700.0, 6800.0, 6900.0, 7000.0, 7100.0, 7200.0, 7300.0, 7400.0, 7500.0, 7600.0, 7700.0, 7800.0, 7900.0, 8000.0, 8100.0, 8200.0, 8300.0, 8400.0, 8500.0, 8600.0, 8700.0, 8800.0, 8900.0, 9000.0, 9100.0, 9200.0, 9300.0, 9400.0, 9500.0, 9600.0, 9700.0, 9800.0, 9900.0, 9999.0], \"xaxis\": \"x3\", \"y\": [0.24950000643730164, 0.25224998593330383, 0.3659999966621399, 0.5207499861717224, 0.5852500200271606, 0.5559999942779541, 0.6464999914169312, 0.6669999957084656, 0.690500020980835, 0.3617500066757202, 0.2345000058412552, 0.34549999237060547, 0.44874998927116394, 0.5149999856948853, 0.6085000038146973, 0.5929999947547913, 0.5857499837875366, 0.6880000233650208, 0.5207499861717224, 0.6997500061988831, 0.6662499904632568, 0.6834999918937683, 0.6294999718666077, 0.33924999833106995, 0.7037500143051147, 0.6082500219345093, 0.7057499885559082, 0.597000002861023, 0.6455000042915344, 0.4857499897480011, 0.6875, 0.6255000233650208, 0.5302500128746033, 0.4749999940395355, 0.49924999475479126, 0.49900001287460327, 0.4632500112056732, 0.49799999594688416, 0.4984999895095825, 0.49924999475479126, 0.49799999594688416, 0.49775001406669617, 0.47475001215934753, 0.49274998903274536, 0.4934999942779541, 0.25, 0.25, 0.25, 0.25, 0.25, 0.44449999928474426, 0.44624999165534973, 0.4892500042915344, 0.48524999618530273, 0.49000000953674316, 0.734499990940094, 0.734250009059906, 0.32475000619888306, 0.25, 0.41725000739097595, 0.4547500014305115, 0.4802500009536743, 0.3167499899864197, 0.4945000112056732, 0.484499990940094, 0.4309999942779541, 0.48750001192092896, 0.41225001215934753, 0.4717499911785126, 0.4869999885559082, 0.4832499921321869, 0.48124998807907104, 0.4997499883174896, 0.4950000047683716, 0.49825000762939453, 0.49399998784065247, 0.49424999952316284, 0.4925000071525574, 0.48524999618530273, 0.4947499930858612, 0.4962500035762787, 0.4970000088214874, 0.4972499907016754, 0.4972499907016754, 0.49924999475479126, 0.25, 0.25, 0.25, 0.25, 0.4855000078678131, 0.4932500123977661, 0.4984999895095825, 0.4984999895095825, 0.4957500100135803, 0.4984999895095825, 0.43575000762939453, 0.4517500102519989, 0.4975000023841858, 0.49524998664855957, 0.49799999594688416, 0.47200000286102295], \"yaxis\": \"y3\"}, {\"line\": {\"color\": \"blue\"}, \"name\": \"Train Loss\", \"type\": \"scatter\", \"x\": [0.0, 100.0, 200.0, 300.0, 400.0, 500.0, 600.0, 700.0, 800.0, 900.0, 1000.0, 1100.0, 1200.0, 1300.0, 1400.0, 1500.0, 1600.0, 1700.0, 1800.0, 1900.0, 2000.0, 2100.0, 2200.0, 2300.0, 2400.0, 2500.0, 2600.0, 2700.0, 2800.0, 2900.0, 3000.0, 3100.0, 3200.0, 3300.0, 3400.0, 3500.0, 3600.0, 3700.0, 3800.0, 3900.0, 4000.0, 4100.0, 4200.0, 4300.0, 4400.0, 4500.0, 4600.0, 4700.0, 4800.0, 4900.0, 5000.0, 5100.0, 5200.0, 5300.0, 5400.0, 5500.0, 5600.0, 5700.0, 5800.0, 5900.0, 6000.0, 6100.0, 6200.0, 6300.0, 6400.0, 6500.0, 6600.0, 6700.0, 6800.0, 6900.0, 7000.0, 7100.0, 7200.0, 7300.0, 7400.0, 7500.0, 7600.0, 7700.0, 7800.0, 7900.0, 8000.0, 8100.0, 8200.0, 8300.0, 8400.0, 8500.0, 8600.0, 8700.0, 8800.0, 8900.0, 9000.0, 9100.0, 9200.0, 9300.0, 9400.0, 9500.0, 9600.0, 9700.0, 9800.0, 9900.0, 9999.0], \"xaxis\": \"x4\", \"y\": [22.291603088378906, 21.948673248291016, 20.47743034362793, 17.942867279052734, 16.892908096313477, 19.1196231842041, 14.582496643066406, 15.937034606933594, 13.494736671447754, 24.608951568603516, 20.005245208740234, 18.35464096069336, 17.551027297973633, 17.004430770874023, 16.626678466796875, 18.284934997558594, 16.31817626953125, 16.587158203125, 18.452150344848633, 16.799945831298828, 17.757173538208008, 16.18335723876953, 18.247968673706055, 18.74642562866211, 16.194032669067383, 16.791458129882812, 16.304580688476562, 17.242523193359375, 17.199298858642578, 16.23615074157715, 16.362491607666016, 16.843944549560547, 16.212188720703125, 16.182464599609375, 16.18682861328125, 16.15123176574707, 17.66232681274414, 16.165937423706055, 16.150909423828125, 16.147621154785156, 16.150653839111328, 16.245325088500977, 17.520042419433594, 16.15206527709961, 16.149860382080078, 21.130889892578125, 20.231563568115234, 20.132728576660156, 19.059797286987305, 21.80246353149414, 19.5130615234375, 18.318628311157227, 18.30681037902832, 16.500228881835938, 16.500751495361328, 14.808601379394531, 14.807254791259766, 26.090288162231445, 26.628387451171875, 20.623756408691406, 22.044307708740234, 20.72549057006836, 23.073652267456055, 20.7496337890625, 20.40729522705078, 19.927913665771484, 19.702014923095703, 20.69955062866211, 20.24031639099121, 19.48029327392578, 20.529611587524414, 19.76283073425293, 20.526874542236328, 19.751693725585938, 20.190444946289062, 19.29998779296875, 20.482128143310547, 19.337032318115234, 20.440433502197266, 19.298831939697266, 19.728431701660156, 19.3009033203125, 19.298860549926758, 19.29877281188965, 21.33289337158203, 23.89868927001953, 23.89868927001953, 23.89868927001953, 23.89868927001953, 19.401458740234375, 19.298561096191406, 19.303625106811523, 19.298519134521484, 19.29840850830078, 19.29851531982422, 19.341108322143555, 19.298316955566406, 19.3000431060791, 18.811355590820312, 18.829565048217773, 18.81237030029297], \"yaxis\": \"y4\"}, {\"line\": {\"color\": \"red\"}, \"name\": \"Test Loss\", \"type\": \"scatter\", \"x\": [0.0, 100.0, 200.0, 300.0, 400.0, 500.0, 600.0, 700.0, 800.0, 900.0, 1000.0, 1100.0, 1200.0, 1300.0, 1400.0, 1500.0, 1600.0, 1700.0, 1800.0, 1900.0, 2000.0, 2100.0, 2200.0, 2300.0, 2400.0, 2500.0, 2600.0, 2700.0, 2800.0, 2900.0, 3000.0, 3100.0, 3200.0, 3300.0, 3400.0, 3500.0, 3600.0, 3700.0, 3800.0, 3900.0, 4000.0, 4100.0, 4200.0, 4300.0, 4400.0, 4500.0, 4600.0, 4700.0, 4800.0, 4900.0, 5000.0, 5100.0, 5200.0, 5300.0, 5400.0, 5500.0, 5600.0, 5700.0, 5800.0, 5900.0, 6000.0, 6100.0, 6200.0, 6300.0, 6400.0, 6500.0, 6600.0, 6700.0, 6800.0, 6900.0, 7000.0, 7100.0, 7200.0, 7300.0, 7400.0, 7500.0, 7600.0, 7700.0, 7800.0, 7900.0, 8000.0, 8100.0, 8200.0, 8300.0, 8400.0, 8500.0, 8600.0, 8700.0, 8800.0, 8900.0, 9000.0, 9100.0, 9200.0, 9300.0, 9400.0, 9500.0, 9600.0, 9700.0, 9800.0, 9900.0, 9999.0], \"xaxis\": \"x4\", \"y\": [5589.716796875, 5532.29296875, 5000.5947265625, 4550.74462890625, 4185.11083984375, 4197.505859375, 3926.296630859375, 3864.005126953125, 3656.91455078125, 5138.84423828125, 4979.4609375, 4716.06005859375, 4563.02197265625, 4261.26806640625, 4218.8759765625, 4172.98828125, 4172.29833984375, 4119.796875, 4593.357421875, 4162.8271484375, 4102.44873046875, 4110.86328125, 4345.02685546875, 5076.673828125, 4102.6396484375, 4418.662109375, 4136.24755859375, 4417.12353515625, 4302.28271484375, 4236.4921875, 4102.75, 4135.015625, 4083.403564453125, 4111.03125, 4057.5673828125, 4048.992919921875, 4348.64990234375, 4052.199462890625, 4052.02734375, 4042.893310546875, 4048.11962890625, 4047.555419921875, 4174.6572265625, 4079.3349609375, 4075.523681640625, 5330.57470703125, 5095.28271484375, 4944.90673828125, 4840.45703125, 5334.3359375, 4744.1923828125, 4526.61474609375, 4212.7080078125, 4243.396484375, 4224.22705078125, 3826.95263671875, 3830.80029296875, 6098.8681640625, 6656.822265625, 5367.2578125, 5225.619140625, 5177.7666015625, 5599.8896484375, 5178.26806640625, 5075.962890625, 5176.3662109375, 5025.966796875, 5214.9775390625, 4994.3837890625, 4941.7333984375, 4944.43896484375, 4933.59716796875, 5041.91845703125, 4898.2490234375, 4937.3427734375, 4884.9443359375, 5290.05029296875, 4871.14111328125, 4893.345703125, 4856.15966796875, 4888.5517578125, 4900.7978515625, 4857.3779296875, 4843.8046875, 5304.298828125, 5974.6611328125, 5974.6728515625, 5974.6728515625, 5974.6728515625, 4899.91162109375, 4866.9345703125, 4894.58154296875, 4854.162109375, 4846.92529296875, 4888.8369140625, 5113.12353515625, 5040.7587890625, 4861.298828125, 4729.8603515625, 4745.48046875, 4835.6748046875], \"yaxis\": \"y4\"}],\n",
              "                        {\"annotations\": [{\"font\": {\"size\": 16}, \"showarrow\": false, \"text\": \"Training Loss\", \"x\": 0.225, \"xanchor\": \"center\", \"xref\": \"paper\", \"y\": 1.0, \"yanchor\": \"bottom\", \"yref\": \"paper\"}, {\"font\": {\"size\": 16}, \"showarrow\": false, \"text\": \"Test Loss\", \"x\": 0.775, \"xanchor\": \"center\", \"xref\": \"paper\", \"y\": 1.0, \"yanchor\": \"bottom\", \"yref\": \"paper\"}, {\"font\": {\"size\": 16}, \"showarrow\": false, \"text\": \"Test Accuracy\", \"x\": 0.225, \"xanchor\": \"center\", \"xref\": \"paper\", \"y\": 0.375, \"yanchor\": \"bottom\", \"yref\": \"paper\"}, {\"font\": {\"size\": 16}, \"showarrow\": false, \"text\": \"Losses\", \"x\": 0.775, \"xanchor\": \"center\", \"xref\": \"paper\", \"y\": 0.375, \"yanchor\": \"bottom\", \"yref\": \"paper\"}], \"height\": 1000, \"template\": {\"data\": {\"bar\": [{\"error_x\": {\"color\": \"#2a3f5f\"}, \"error_y\": {\"color\": \"#2a3f5f\"}, \"marker\": {\"line\": {\"color\": \"#E5ECF6\", \"width\": 0.5}}, \"type\": \"bar\"}], \"barpolar\": [{\"marker\": {\"line\": {\"color\": \"#E5ECF6\", \"width\": 0.5}}, \"type\": \"barpolar\"}], \"carpet\": [{\"aaxis\": {\"endlinecolor\": \"#2a3f5f\", \"gridcolor\": \"white\", \"linecolor\": \"white\", \"minorgridcolor\": \"white\", \"startlinecolor\": \"#2a3f5f\"}, \"baxis\": {\"endlinecolor\": \"#2a3f5f\", \"gridcolor\": \"white\", \"linecolor\": \"white\", \"minorgridcolor\": \"white\", \"startlinecolor\": \"#2a3f5f\"}, \"type\": \"carpet\"}], \"choropleth\": [{\"colorbar\": {\"outlinewidth\": 0, \"ticks\": \"\"}, \"type\": \"choropleth\"}], \"contour\": [{\"colorbar\": {\"outlinewidth\": 0, \"ticks\": \"\"}, \"colorscale\": [[0.0, \"#0d0887\"], [0.1111111111111111, \"#46039f\"], [0.2222222222222222, \"#7201a8\"], [0.3333333333333333, \"#9c179e\"], [0.4444444444444444, \"#bd3786\"], [0.5555555555555556, \"#d8576b\"], [0.6666666666666666, \"#ed7953\"], [0.7777777777777778, \"#fb9f3a\"], [0.8888888888888888, \"#fdca26\"], [1.0, \"#f0f921\"]], \"type\": \"contour\"}], \"contourcarpet\": [{\"colorbar\": {\"outlinewidth\": 0, \"ticks\": \"\"}, \"type\": \"contourcarpet\"}], \"heatmap\": [{\"colorbar\": {\"outlinewidth\": 0, \"ticks\": \"\"}, \"colorscale\": [[0.0, \"#0d0887\"], [0.1111111111111111, \"#46039f\"], [0.2222222222222222, \"#7201a8\"], [0.3333333333333333, \"#9c179e\"], [0.4444444444444444, \"#bd3786\"], [0.5555555555555556, \"#d8576b\"], [0.6666666666666666, \"#ed7953\"], [0.7777777777777778, \"#fb9f3a\"], [0.8888888888888888, \"#fdca26\"], [1.0, \"#f0f921\"]], \"type\": \"heatmap\"}], \"heatmapgl\": [{\"colorbar\": {\"outlinewidth\": 0, \"ticks\": \"\"}, \"colorscale\": [[0.0, \"#0d0887\"], [0.1111111111111111, \"#46039f\"], [0.2222222222222222, \"#7201a8\"], [0.3333333333333333, \"#9c179e\"], [0.4444444444444444, \"#bd3786\"], [0.5555555555555556, \"#d8576b\"], [0.6666666666666666, \"#ed7953\"], [0.7777777777777778, \"#fb9f3a\"], [0.8888888888888888, \"#fdca26\"], [1.0, \"#f0f921\"]], \"type\": \"heatmapgl\"}], \"histogram\": [{\"marker\": {\"colorbar\": {\"outlinewidth\": 0, \"ticks\": \"\"}}, \"type\": \"histogram\"}], \"histogram2d\": [{\"colorbar\": {\"outlinewidth\": 0, \"ticks\": \"\"}, \"colorscale\": [[0.0, \"#0d0887\"], [0.1111111111111111, \"#46039f\"], [0.2222222222222222, \"#7201a8\"], [0.3333333333333333, \"#9c179e\"], [0.4444444444444444, \"#bd3786\"], [0.5555555555555556, \"#d8576b\"], [0.6666666666666666, \"#ed7953\"], [0.7777777777777778, \"#fb9f3a\"], [0.8888888888888888, \"#fdca26\"], [1.0, \"#f0f921\"]], \"type\": \"histogram2d\"}], \"histogram2dcontour\": [{\"colorbar\": {\"outlinewidth\": 0, \"ticks\": \"\"}, \"colorscale\": [[0.0, \"#0d0887\"], [0.1111111111111111, \"#46039f\"], [0.2222222222222222, \"#7201a8\"], [0.3333333333333333, \"#9c179e\"], [0.4444444444444444, \"#bd3786\"], [0.5555555555555556, \"#d8576b\"], [0.6666666666666666, \"#ed7953\"], [0.7777777777777778, \"#fb9f3a\"], [0.8888888888888888, \"#fdca26\"], [1.0, \"#f0f921\"]], \"type\": \"histogram2dcontour\"}], \"mesh3d\": [{\"colorbar\": {\"outlinewidth\": 0, \"ticks\": \"\"}, \"type\": \"mesh3d\"}], \"parcoords\": [{\"line\": {\"colorbar\": {\"outlinewidth\": 0, \"ticks\": \"\"}}, \"type\": \"parcoords\"}], \"pie\": [{\"automargin\": true, \"type\": \"pie\"}], \"scatter\": [{\"marker\": {\"colorbar\": {\"outlinewidth\": 0, \"ticks\": \"\"}}, \"type\": \"scatter\"}], \"scatter3d\": [{\"line\": {\"colorbar\": {\"outlinewidth\": 0, \"ticks\": \"\"}}, \"marker\": {\"colorbar\": {\"outlinewidth\": 0, \"ticks\": \"\"}}, \"type\": \"scatter3d\"}], \"scattercarpet\": [{\"marker\": {\"colorbar\": {\"outlinewidth\": 0, \"ticks\": \"\"}}, \"type\": \"scattercarpet\"}], \"scattergeo\": [{\"marker\": {\"colorbar\": {\"outlinewidth\": 0, \"ticks\": \"\"}}, \"type\": \"scattergeo\"}], \"scattergl\": [{\"marker\": {\"colorbar\": {\"outlinewidth\": 0, \"ticks\": \"\"}}, \"type\": \"scattergl\"}], \"scattermapbox\": [{\"marker\": {\"colorbar\": {\"outlinewidth\": 0, \"ticks\": \"\"}}, \"type\": \"scattermapbox\"}], \"scatterpolar\": [{\"marker\": {\"colorbar\": {\"outlinewidth\": 0, \"ticks\": \"\"}}, \"type\": \"scatterpolar\"}], \"scatterpolargl\": [{\"marker\": {\"colorbar\": {\"outlinewidth\": 0, \"ticks\": \"\"}}, \"type\": \"scatterpolargl\"}], \"scatterternary\": [{\"marker\": {\"colorbar\": {\"outlinewidth\": 0, \"ticks\": \"\"}}, \"type\": \"scatterternary\"}], \"surface\": [{\"colorbar\": {\"outlinewidth\": 0, \"ticks\": \"\"}, \"colorscale\": [[0.0, \"#0d0887\"], [0.1111111111111111, \"#46039f\"], [0.2222222222222222, \"#7201a8\"], [0.3333333333333333, \"#9c179e\"], [0.4444444444444444, \"#bd3786\"], [0.5555555555555556, \"#d8576b\"], [0.6666666666666666, \"#ed7953\"], [0.7777777777777778, \"#fb9f3a\"], [0.8888888888888888, \"#fdca26\"], [1.0, \"#f0f921\"]], \"type\": \"surface\"}], \"table\": [{\"cells\": {\"fill\": {\"color\": \"#EBF0F8\"}, \"line\": {\"color\": \"white\"}}, \"header\": {\"fill\": {\"color\": \"#C8D4E3\"}, \"line\": {\"color\": \"white\"}}, \"type\": \"table\"}]}, \"layout\": {\"annotationdefaults\": {\"arrowcolor\": \"#2a3f5f\", \"arrowhead\": 0, \"arrowwidth\": 1}, \"coloraxis\": {\"colorbar\": {\"outlinewidth\": 0, \"ticks\": \"\"}}, \"colorscale\": {\"diverging\": [[0, \"#8e0152\"], [0.1, \"#c51b7d\"], [0.2, \"#de77ae\"], [0.3, \"#f1b6da\"], [0.4, \"#fde0ef\"], [0.5, \"#f7f7f7\"], [0.6, \"#e6f5d0\"], [0.7, \"#b8e186\"], [0.8, \"#7fbc41\"], [0.9, \"#4d9221\"], [1, \"#276419\"]], \"sequential\": [[0.0, \"#0d0887\"], [0.1111111111111111, \"#46039f\"], [0.2222222222222222, \"#7201a8\"], [0.3333333333333333, \"#9c179e\"], [0.4444444444444444, \"#bd3786\"], [0.5555555555555556, \"#d8576b\"], [0.6666666666666666, \"#ed7953\"], [0.7777777777777778, \"#fb9f3a\"], [0.8888888888888888, \"#fdca26\"], [1.0, \"#f0f921\"]], \"sequentialminus\": [[0.0, \"#0d0887\"], [0.1111111111111111, \"#46039f\"], [0.2222222222222222, \"#7201a8\"], [0.3333333333333333, \"#9c179e\"], [0.4444444444444444, \"#bd3786\"], [0.5555555555555556, \"#d8576b\"], [0.6666666666666666, \"#ed7953\"], [0.7777777777777778, \"#fb9f3a\"], [0.8888888888888888, \"#fdca26\"], [1.0, \"#f0f921\"]]}, \"colorway\": [\"#636efa\", \"#EF553B\", \"#00cc96\", \"#ab63fa\", \"#FFA15A\", \"#19d3f3\", \"#FF6692\", \"#B6E880\", \"#FF97FF\", \"#FECB52\"], \"font\": {\"color\": \"#2a3f5f\"}, \"geo\": {\"bgcolor\": \"white\", \"lakecolor\": \"white\", \"landcolor\": \"#E5ECF6\", \"showlakes\": true, \"showland\": true, \"subunitcolor\": \"white\"}, \"hoverlabel\": {\"align\": \"left\"}, \"hovermode\": \"closest\", \"mapbox\": {\"style\": \"light\"}, \"paper_bgcolor\": \"white\", \"plot_bgcolor\": \"#E5ECF6\", \"polar\": {\"angularaxis\": {\"gridcolor\": \"white\", \"linecolor\": \"white\", \"ticks\": \"\"}, \"bgcolor\": \"#E5ECF6\", \"radialaxis\": {\"gridcolor\": \"white\", \"linecolor\": \"white\", \"ticks\": \"\"}}, \"scene\": {\"xaxis\": {\"backgroundcolor\": \"#E5ECF6\", \"gridcolor\": \"white\", \"gridwidth\": 2, \"linecolor\": \"white\", \"showbackground\": true, \"ticks\": \"\", \"zerolinecolor\": \"white\"}, \"yaxis\": {\"backgroundcolor\": \"#E5ECF6\", \"gridcolor\": \"white\", \"gridwidth\": 2, \"linecolor\": \"white\", \"showbackground\": true, \"ticks\": \"\", \"zerolinecolor\": \"white\"}, \"zaxis\": {\"backgroundcolor\": \"#E5ECF6\", \"gridcolor\": \"white\", \"gridwidth\": 2, \"linecolor\": \"white\", \"showbackground\": true, \"ticks\": \"\", \"zerolinecolor\": \"white\"}}, \"shapedefaults\": {\"line\": {\"color\": \"#2a3f5f\"}}, \"ternary\": {\"aaxis\": {\"gridcolor\": \"white\", \"linecolor\": \"white\", \"ticks\": \"\"}, \"baxis\": {\"gridcolor\": \"white\", \"linecolor\": \"white\", \"ticks\": \"\"}, \"bgcolor\": \"#E5ECF6\", \"caxis\": {\"gridcolor\": \"white\", \"linecolor\": \"white\", \"ticks\": \"\"}}, \"title\": {\"x\": 0.05}, \"xaxis\": {\"automargin\": true, \"gridcolor\": \"white\", \"linecolor\": \"white\", \"ticks\": \"\", \"title\": {\"standoff\": 15}, \"zerolinecolor\": \"white\", \"zerolinewidth\": 2}, \"yaxis\": {\"automargin\": true, \"gridcolor\": \"white\", \"linecolor\": \"white\", \"ticks\": \"\", \"title\": {\"standoff\": 15}, \"zerolinecolor\": \"white\", \"zerolinewidth\": 2}}}, \"title\": {\"text\": \"Performance over time\"}, \"xaxis\": {\"anchor\": \"y\", \"domain\": [0.0, 0.45]}, \"xaxis2\": {\"anchor\": \"y2\", \"domain\": [0.55, 1.0]}, \"xaxis3\": {\"anchor\": \"y3\", \"domain\": [0.0, 0.45]}, \"xaxis4\": {\"anchor\": \"y4\", \"domain\": [0.55, 1.0]}, \"yaxis\": {\"anchor\": \"x\", \"domain\": [0.625, 1.0]}, \"yaxis2\": {\"anchor\": \"x2\", \"domain\": [0.625, 1.0]}, \"yaxis3\": {\"anchor\": \"x3\", \"domain\": [0.0, 0.375]}, \"yaxis4\": {\"anchor\": \"x4\", \"domain\": [0.0, 0.375]}},\n",
              "                        {\"responsive\": true}\n",
              "                    ).then(function(){\n",
              "                            \n",
              "var gd = document.getElementById('4f7c1b8b-1cde-4e53-8c49-3137b9326796');\n",
              "var x = new MutationObserver(function (mutations, observer) {{\n",
              "        var display = window.getComputedStyle(gd).display;\n",
              "        if (!display || display === 'none') {{\n",
              "            console.log([gd, 'removed!']);\n",
              "            Plotly.purge(gd);\n",
              "            observer.disconnect();\n",
              "        }}\n",
              "}});\n",
              "\n",
              "// Listen for the removal of the full notebook cells\n",
              "var notebookContainer = gd.closest('#notebook-container');\n",
              "if (notebookContainer) {{\n",
              "    x.observe(notebookContainer, {childList: true});\n",
              "}}\n",
              "\n",
              "// Listen for the clearing of the current output cell\n",
              "var outputEl = gd.closest('.output');\n",
              "if (outputEl) {{\n",
              "    x.observe(outputEl, {childList: true});\n",
              "}}\n",
              "\n",
              "                        })\n",
              "                };\n",
              "                \n",
              "            </script>\n",
              "        </div>\n",
              "</body>\n",
              "</html>"
            ]
          },
          "metadata": {
            "tags": []
          }
        }
      ]
    }
  ]
}